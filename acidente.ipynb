{
 "cells": [
  {
   "cell_type": "code",
   "execution_count": 30,
   "metadata": {},
   "outputs": [],
   "source": [
    "from pyspark.sql import SparkSession\n",
    "from pyspark.sql import functions as f\n"
   ]
  },
  {
   "cell_type": "code",
   "execution_count": 31,
   "metadata": {},
   "outputs": [
    {
     "data": {
      "text/html": [
       "\n",
       "            <div>\n",
       "                <p><b>SparkSession - in-memory</b></p>\n",
       "                \n",
       "        <div>\n",
       "            <p><b>SparkContext</b></p>\n",
       "\n",
       "            <p><a href=\"http://DESKTOP-G483Q4K:4040\">Spark UI</a></p>\n",
       "\n",
       "            <dl>\n",
       "              <dt>Version</dt>\n",
       "                <dd><code>v3.5.1</code></dd>\n",
       "              <dt>Master</dt>\n",
       "                <dd><code>local[*]</code></dd>\n",
       "              <dt>AppName</dt>\n",
       "                <dd><code>mySpark</code></dd>\n",
       "            </dl>\n",
       "        </div>\n",
       "        \n",
       "            </div>\n",
       "        "
      ],
      "text/plain": [
       "<pyspark.sql.session.SparkSession at 0x1d93ed48390>"
      ]
     },
     "execution_count": 31,
     "metadata": {},
     "output_type": "execute_result"
    }
   ],
   "source": [
    "spark = SparkSession.builder.appName('mySpark').master('local[*]').getOrCreate()\n",
    "spark"
   ]
  },
  {
   "cell_type": "code",
   "execution_count": 32,
   "metadata": {},
   "outputs": [
    {
     "name": "stdout",
     "output_type": "stream",
     "text": [
      "+---+-------+--------+-------------------+-------------------+-----------------+------------------+-------+-------+------------+--------------------+--------------------+------------+----------+-----+----------+-------+----------+------------+-------------------+--------------+-------------+-----------+------------+--------------+--------------+---------------+-----------------+-----------------+-------+-----+--------+--------+--------+-------+-------+----------+-------+-----+---------------+--------------+------------+--------------+--------------+-----------------+---------------------+\n",
      "| ID| Source|Severity|         Start_Time|           End_Time|        Start_Lat|         Start_Lng|End_Lat|End_Lng|Distance(mi)|         Description|              Street|        City|    County|State|   Zipcode|Country|  Timezone|Airport_Code|  Weather_Timestamp|Temperature(F)|Wind_Chill(F)|Humidity(%)|Pressure(in)|Visibility(mi)|Wind_Direction|Wind_Speed(mph)|Precipitation(in)|Weather_Condition|Amenity| Bump|Crossing|Give_Way|Junction|No_Exit|Railway|Roundabout|Station| Stop|Traffic_Calming|Traffic_Signal|Turning_Loop|Sunrise_Sunset|Civil_Twilight|Nautical_Twilight|Astronomical_Twilight|\n",
      "+---+-------+--------+-------------------+-------------------+-----------------+------------------+-------+-------+------------+--------------------+--------------------+------------+----------+-----+----------+-------+----------+------------+-------------------+--------------+-------------+-----------+------------+--------------+--------------+---------------+-----------------+-----------------+-------+-----+--------+--------+--------+-------+-------+----------+-------+-----+---------------+--------------+------------+--------------+--------------+-----------------+---------------------+\n",
      "|A-1|Source2|       3|2016-02-08 05:46:00|2016-02-08 11:00:00|        39.865147|        -84.058723|   NULL|   NULL|        0.01|Right lane blocke...|              I-70 E|      Dayton|Montgomery|   OH|     45424|     US|US/Eastern|        KFFO|2016-02-08 05:58:00|          36.9|         NULL|       91.0|       29.68|          10.0|          Calm|           NULL|             0.02|       Light Rain|  false|false|   false|   false|   false|  false|  false|     false|  false|false|          false|         false|       false|         Night|         Night|            Night|                Night|\n",
      "|A-2|Source2|       2|2016-02-08 06:07:59|2016-02-08 06:37:59|39.92805900000001|        -82.831184|   NULL|   NULL|        0.01|Accident on Brice...|            Brice Rd|Reynoldsburg|  Franklin|   OH|43068-3402|     US|US/Eastern|        KCMH|2016-02-08 05:51:00|          37.9|         NULL|      100.0|       29.65|          10.0|          Calm|           NULL|              0.0|       Light Rain|  false|false|   false|   false|   false|  false|  false|     false|  false|false|          false|         false|       false|         Night|         Night|            Night|                  Day|\n",
      "|A-3|Source2|       2|2016-02-08 06:49:27|2016-02-08 07:19:27|        39.063148|        -84.032608|   NULL|   NULL|        0.01|Accident on OH-32...|      State Route 32|Williamsburg|  Clermont|   OH|     45176|     US|US/Eastern|        KI69|2016-02-08 06:56:00|          36.0|         33.3|      100.0|       29.67|          10.0|            SW|            3.5|             NULL|         Overcast|  false|false|   false|   false|   false|  false|  false|     false|  false|false|          false|          true|       false|         Night|         Night|              Day|                  Day|\n",
      "|A-4|Source2|       3|2016-02-08 07:23:34|2016-02-08 07:53:34|        39.747753|-84.20558199999998|   NULL|   NULL|        0.01|Accident on I-75 ...|              I-75 S|      Dayton|Montgomery|   OH|     45417|     US|US/Eastern|        KDAY|2016-02-08 07:38:00|          35.1|         31.0|       96.0|       29.64|           9.0|            SW|            4.6|             NULL|    Mostly Cloudy|  false|false|   false|   false|   false|  false|  false|     false|  false|false|          false|         false|       false|         Night|           Day|              Day|                  Day|\n",
      "|A-5|Source2|       2|2016-02-08 07:39:07|2016-02-08 08:09:07|        39.627781|        -84.188354|   NULL|   NULL|        0.01|Accident on McEwe...|Miamisburg Center...|      Dayton|Montgomery|   OH|     45459|     US|US/Eastern|        KMGY|2016-02-08 07:53:00|          36.0|         33.3|       89.0|       29.65|           6.0|            SW|            3.5|             NULL|    Mostly Cloudy|  false|false|   false|   false|   false|  false|  false|     false|  false|false|          false|          true|       false|           Day|           Day|              Day|                  Day|\n",
      "+---+-------+--------+-------------------+-------------------+-----------------+------------------+-------+-------+------------+--------------------+--------------------+------------+----------+-----+----------+-------+----------+------------+-------------------+--------------+-------------+-----------+------------+--------------+--------------+---------------+-----------------+-----------------+-------+-----+--------+--------+--------+-------+-------+----------+-------+-----+---------------+--------------+------------+--------------+--------------+-----------------+---------------------+\n",
      "only showing top 5 rows\n",
      "\n"
     ]
    }
   ],
   "source": [
    "df = spark.read.csv('US_Accidents_March23.csv', header = True, inferSchema = True)\n",
    "df.show(5)"
   ]
  },
  {
   "cell_type": "code",
   "execution_count": 33,
   "metadata": {},
   "outputs": [
    {
     "name": "stdout",
     "output_type": "stream",
     "text": [
      "root\n",
      " |-- ID: string (nullable = true)\n",
      " |-- Source: string (nullable = true)\n",
      " |-- Severity: integer (nullable = true)\n",
      " |-- Start_Time: timestamp (nullable = true)\n",
      " |-- End_Time: timestamp (nullable = true)\n",
      " |-- Start_Lat: double (nullable = true)\n",
      " |-- Start_Lng: double (nullable = true)\n",
      " |-- End_Lat: double (nullable = true)\n",
      " |-- End_Lng: double (nullable = true)\n",
      " |-- Distance(mi): double (nullable = true)\n",
      " |-- Description: string (nullable = true)\n",
      " |-- Street: string (nullable = true)\n",
      " |-- City: string (nullable = true)\n",
      " |-- County: string (nullable = true)\n",
      " |-- State: string (nullable = true)\n",
      " |-- Zipcode: string (nullable = true)\n",
      " |-- Country: string (nullable = true)\n",
      " |-- Timezone: string (nullable = true)\n",
      " |-- Airport_Code: string (nullable = true)\n",
      " |-- Weather_Timestamp: timestamp (nullable = true)\n",
      " |-- Temperature(F): double (nullable = true)\n",
      " |-- Wind_Chill(F): double (nullable = true)\n",
      " |-- Humidity(%): double (nullable = true)\n",
      " |-- Pressure(in): double (nullable = true)\n",
      " |-- Visibility(mi): double (nullable = true)\n",
      " |-- Wind_Direction: string (nullable = true)\n",
      " |-- Wind_Speed(mph): double (nullable = true)\n",
      " |-- Precipitation(in): double (nullable = true)\n",
      " |-- Weather_Condition: string (nullable = true)\n",
      " |-- Amenity: boolean (nullable = true)\n",
      " |-- Bump: boolean (nullable = true)\n",
      " |-- Crossing: boolean (nullable = true)\n",
      " |-- Give_Way: boolean (nullable = true)\n",
      " |-- Junction: boolean (nullable = true)\n",
      " |-- No_Exit: boolean (nullable = true)\n",
      " |-- Railway: boolean (nullable = true)\n",
      " |-- Roundabout: boolean (nullable = true)\n",
      " |-- Station: boolean (nullable = true)\n",
      " |-- Stop: boolean (nullable = true)\n",
      " |-- Traffic_Calming: boolean (nullable = true)\n",
      " |-- Traffic_Signal: boolean (nullable = true)\n",
      " |-- Turning_Loop: boolean (nullable = true)\n",
      " |-- Sunrise_Sunset: string (nullable = true)\n",
      " |-- Civil_Twilight: string (nullable = true)\n",
      " |-- Nautical_Twilight: string (nullable = true)\n",
      " |-- Astronomical_Twilight: string (nullable = true)\n",
      "\n"
     ]
    }
   ],
   "source": [
    "df.printSchema()"
   ]
  },
  {
   "cell_type": "code",
   "execution_count": 34,
   "metadata": {},
   "outputs": [
    {
     "data": {
      "text/plain": [
       "7728394"
      ]
     },
     "execution_count": 34,
     "metadata": {},
     "output_type": "execute_result"
    }
   ],
   "source": [
    "df.count()"
   ]
  },
  {
   "cell_type": "code",
   "execution_count": 35,
   "metadata": {},
   "outputs": [
    {
     "name": "stdout",
     "output_type": "stream",
     "text": [
      "+---+------+--------+----------+--------+---------+---------+-------+-------+------------+-----------+------+----+------+-----+-------+-------+--------+------------+-----------------+--------------+-------------+-----------+------------+--------------+--------------+---------------+-----------------+-----------------+-------+----+--------+--------+--------+-------+-------+----------+-------+----+---------------+--------------+------------+--------------+--------------+-----------------+---------------------+\n",
      "| ID|Source|Severity|Start_Time|End_Time|Start_Lat|Start_Lng|End_Lat|End_Lng|Distance(mi)|Description|Street|City|County|State|Zipcode|Country|Timezone|Airport_Code|Weather_Timestamp|Temperature(F)|Wind_Chill(F)|Humidity(%)|Pressure(in)|Visibility(mi)|Wind_Direction|Wind_Speed(mph)|Precipitation(in)|Weather_Condition|Amenity|Bump|Crossing|Give_Way|Junction|No_Exit|Railway|Roundabout|Station|Stop|Traffic_Calming|Traffic_Signal|Turning_Loop|Sunrise_Sunset|Civil_Twilight|Nautical_Twilight|Astronomical_Twilight|\n",
      "+---+------+--------+----------+--------+---------+---------+-------+-------+------------+-----------+------+----+------+-----+-------+-------+--------+------------+-----------------+--------------+-------------+-----------+------------+--------------+--------------+---------------+-----------------+-----------------+-------+----+--------+--------+--------+-------+-------+----------+-------+----+---------------+--------------+------------+--------------+--------------+-----------------+---------------------+\n",
      "|  0|     0|       0|         0|       0|        0|        0|3402762|3402762|           0|          5| 10869| 253|     0|    0|   1915|      0|    7808|       22635|           120228|        163853|      1999019|     174144|      140679|        177098|        175206|         571233|          2203586|           173459|      0|   0|       0|       0|       0|      0|      0|         0|      0|   0|              0|             0|           0|         23246|         23246|            23246|                23246|\n",
      "+---+------+--------+----------+--------+---------+---------+-------+-------+------------+-----------+------+----+------+-----+-------+-------+--------+------------+-----------------+--------------+-------------+-----------+------------+--------------+--------------+---------------+-----------------+-----------------+-------+----+--------+--------+--------+-------+-------+----------+-------+----+---------------+--------------+------------+--------------+--------------+-----------------+---------------------+\n",
      "\n"
     ]
    }
   ],
   "source": [
    "null = [f.sum(f.when(f.col(c).isNull(), 1).otherwise(0)).alias(c) for c in df.columns]\n",
    "df_null = df.agg(*null)\n",
    "df_null.show()"
   ]
  },
  {
   "cell_type": "code",
   "execution_count": 36,
   "metadata": {},
   "outputs": [
    {
     "name": "stdout",
     "output_type": "stream",
     "text": [
      "+---+--------+-------------------+-------------------+--------------------+--------------------+------------+----------+-----+-------+----------+-------------------+--------------+-------------+-----------+------------+--------------+--------------+---------------+-----------------+-----------------+-------+-----+--------+--------+--------+-------+-------+----------+-------+-----+---------------+--------------+------------+--------------+--------------+-----------------+---------------------+\n",
      "| ID|Severity|         Start_Time|           End_Time|         Description|              Street|        City|    County|State|Country|  Timezone|  Weather_Timestamp|Temperature(F)|Wind_Chill(F)|Humidity(%)|Pressure(in)|Visibility(mi)|Wind_Direction|Wind_Speed(mph)|Precipitation(in)|Weather_Condition|Amenity| Bump|Crossing|Give_Way|Junction|No_Exit|Railway|Roundabout|Station| Stop|Traffic_Calming|Traffic_Signal|Turning_Loop|Sunrise_Sunset|Civil_Twilight|Nautical_Twilight|Astronomical_Twilight|\n",
      "+---+--------+-------------------+-------------------+--------------------+--------------------+------------+----------+-----+-------+----------+-------------------+--------------+-------------+-----------+------------+--------------+--------------+---------------+-----------------+-----------------+-------+-----+--------+--------+--------+-------+-------+----------+-------+-----+---------------+--------------+------------+--------------+--------------+-----------------+---------------------+\n",
      "|A-1|       3|2016-02-08 05:46:00|2016-02-08 11:00:00|Right lane blocke...|              I-70 E|      Dayton|Montgomery|   OH|     US|US/Eastern|2016-02-08 05:58:00|          36.9|         NULL|       91.0|       29.68|          10.0|          Calm|           NULL|             0.02|       Light Rain|  false|false|   false|   false|   false|  false|  false|     false|  false|false|          false|         false|       false|         Night|         Night|            Night|                Night|\n",
      "|A-2|       2|2016-02-08 06:07:59|2016-02-08 06:37:59|Accident on Brice...|            Brice Rd|Reynoldsburg|  Franklin|   OH|     US|US/Eastern|2016-02-08 05:51:00|          37.9|         NULL|      100.0|       29.65|          10.0|          Calm|           NULL|              0.0|       Light Rain|  false|false|   false|   false|   false|  false|  false|     false|  false|false|          false|         false|       false|         Night|         Night|            Night|                  Day|\n",
      "|A-3|       2|2016-02-08 06:49:27|2016-02-08 07:19:27|Accident on OH-32...|      State Route 32|Williamsburg|  Clermont|   OH|     US|US/Eastern|2016-02-08 06:56:00|          36.0|         33.3|      100.0|       29.67|          10.0|            SW|            3.5|             NULL|         Overcast|  false|false|   false|   false|   false|  false|  false|     false|  false|false|          false|          true|       false|         Night|         Night|              Day|                  Day|\n",
      "|A-4|       3|2016-02-08 07:23:34|2016-02-08 07:53:34|Accident on I-75 ...|              I-75 S|      Dayton|Montgomery|   OH|     US|US/Eastern|2016-02-08 07:38:00|          35.1|         31.0|       96.0|       29.64|           9.0|            SW|            4.6|             NULL|    Mostly Cloudy|  false|false|   false|   false|   false|  false|  false|     false|  false|false|          false|         false|       false|         Night|           Day|              Day|                  Day|\n",
      "|A-5|       2|2016-02-08 07:39:07|2016-02-08 08:09:07|Accident on McEwe...|Miamisburg Center...|      Dayton|Montgomery|   OH|     US|US/Eastern|2016-02-08 07:53:00|          36.0|         33.3|       89.0|       29.65|           6.0|            SW|            3.5|             NULL|    Mostly Cloudy|  false|false|   false|   false|   false|  false|  false|     false|  false|false|          false|          true|       false|           Day|           Day|              Day|                  Day|\n",
      "+---+--------+-------------------+-------------------+--------------------+--------------------+------------+----------+-----+-------+----------+-------------------+--------------+-------------+-----------+------------+--------------+--------------+---------------+-----------------+-----------------+-------+-----+--------+--------+--------+-------+-------+----------+-------+-----+---------------+--------------+------------+--------------+--------------+-----------------+---------------------+\n",
      "only showing top 5 rows\n",
      "\n"
     ]
    }
   ],
   "source": [
    "df = df.drop('Source', 'Start_Lat', 'Start_Lng', 'End_Lat', 'End_Lng', 'Distance(mi)', 'Zipcode', 'Airport_Code')\n",
    "df.show(5)"
   ]
  },
  {
   "cell_type": "code",
   "execution_count": 37,
   "metadata": {},
   "outputs": [
    {
     "name": "stdout",
     "output_type": "stream",
     "text": [
      "+---+--------+-------------------+-------------------+--------------------+--------------------+------------+----------+-----+-------+----------+-------------------+--------------+-------------+-----------+------------+--------------+--------------+---------------+-----------------+-----------------+-------+-----+--------+--------+--------+-------+-------+----------+-------+-----+---------------+--------------+------------+--------------+--------------+-----------------+---------------------+--------------+\n",
      "| ID|Severity|         Start_Time|           End_Time|         Description|              Street|        City|    County|State|Country|  Timezone|  Weather_Timestamp|Temperature(F)|Wind_Chill(F)|Humidity(%)|Pressure(in)|Visibility(mi)|Wind_Direction|Wind_Speed(mph)|Precipitation(in)|Weather_Condition|Amenity| Bump|Crossing|Give_Way|Junction|No_Exit|Railway|Roundabout|Station| Stop|Traffic_Calming|Traffic_Signal|Turning_Loop|Sunrise_Sunset|Civil_Twilight|Nautical_Twilight|Astronomical_Twilight|Occurrence_day|\n",
      "+---+--------+-------------------+-------------------+--------------------+--------------------+------------+----------+-----+-------+----------+-------------------+--------------+-------------+-----------+------------+--------------+--------------+---------------+-----------------+-----------------+-------+-----+--------+--------+--------+-------+-------+----------+-------+-----+---------------+--------------+------------+--------------+--------------+-----------------+---------------------+--------------+\n",
      "|A-1|       3|2016-02-08 05:46:00|2016-02-08 11:00:00|Right lane blocke...|              I-70 E|      Dayton|Montgomery|   OH|     US|US/Eastern|2016-02-08 05:58:00|          36.9|         NULL|       91.0|       29.68|          10.0|          Calm|           NULL|             0.02|       Light Rain|  false|false|   false|   false|   false|  false|  false|     false|  false|false|          false|         false|       false|         Night|         Night|            Night|                Night|    2016-02-08|\n",
      "|A-2|       2|2016-02-08 06:07:59|2016-02-08 06:37:59|Accident on Brice...|            Brice Rd|Reynoldsburg|  Franklin|   OH|     US|US/Eastern|2016-02-08 05:51:00|          37.9|         NULL|      100.0|       29.65|          10.0|          Calm|           NULL|              0.0|       Light Rain|  false|false|   false|   false|   false|  false|  false|     false|  false|false|          false|         false|       false|         Night|         Night|            Night|                  Day|    2016-02-08|\n",
      "|A-3|       2|2016-02-08 06:49:27|2016-02-08 07:19:27|Accident on OH-32...|      State Route 32|Williamsburg|  Clermont|   OH|     US|US/Eastern|2016-02-08 06:56:00|          36.0|         33.3|      100.0|       29.67|          10.0|            SW|            3.5|             NULL|         Overcast|  false|false|   false|   false|   false|  false|  false|     false|  false|false|          false|          true|       false|         Night|         Night|              Day|                  Day|    2016-02-08|\n",
      "|A-4|       3|2016-02-08 07:23:34|2016-02-08 07:53:34|Accident on I-75 ...|              I-75 S|      Dayton|Montgomery|   OH|     US|US/Eastern|2016-02-08 07:38:00|          35.1|         31.0|       96.0|       29.64|           9.0|            SW|            4.6|             NULL|    Mostly Cloudy|  false|false|   false|   false|   false|  false|  false|     false|  false|false|          false|         false|       false|         Night|           Day|              Day|                  Day|    2016-02-08|\n",
      "|A-5|       2|2016-02-08 07:39:07|2016-02-08 08:09:07|Accident on McEwe...|Miamisburg Center...|      Dayton|Montgomery|   OH|     US|US/Eastern|2016-02-08 07:53:00|          36.0|         33.3|       89.0|       29.65|           6.0|            SW|            3.5|             NULL|    Mostly Cloudy|  false|false|   false|   false|   false|  false|  false|     false|  false|false|          false|          true|       false|           Day|           Day|              Day|                  Day|    2016-02-08|\n",
      "+---+--------+-------------------+-------------------+--------------------+--------------------+------------+----------+-----+-------+----------+-------------------+--------------+-------------+-----------+------------+--------------+--------------+---------------+-----------------+-----------------+-------+-----+--------+--------+--------+-------+-------+----------+-------+-----+---------------+--------------+------------+--------------+--------------+-----------------+---------------------+--------------+\n",
      "only showing top 5 rows\n",
      "\n"
     ]
    }
   ],
   "source": [
    "df = df.withColumn('Occurrence_day', f.to_date(f.col('Start_Time')))\n",
    "df.show(5)\n"
   ]
  },
  {
   "cell_type": "code",
   "execution_count": 54,
   "metadata": {},
   "outputs": [
    {
     "name": "stdout",
     "output_type": "stream",
     "text": [
      "+-----------------+-------------------+-----------------+----------------------+--------------------+------------------+------------------+-------------------+\n",
      "|Weather_Timestamp|avg(Temperature(F))| avg(Humidity(%))|avg(Precipitation(in))|avg(Wind_Speed(mph))|avg(Wind_Chill(F))| avg(Pressure(in))|avg(Visibility(mi))|\n",
      "+-----------------+-------------------+-----------------+----------------------+--------------------+------------------+------------------+-------------------+\n",
      "|             NULL|               NULL|             NULL|                  NULL|                NULL|              NULL|              NULL|               NULL|\n",
      "|       2016-01-14|               31.0|             69.0|                   0.0|                 3.0|              31.0|             29.53|               10.0|\n",
      "|       2016-02-08| 35.388333333333335|91.81666666666666|  0.019375000000000003|  6.3632653061224485|30.177272727272733|29.644833333333334|               7.13|\n",
      "|       2016-02-09|  23.53220338983051|87.11864406779661|  0.003846153846153...|  11.461016949152539|12.562711864406781|29.679830508474588|  2.410169491525424|\n",
      "|       2016-02-10|  17.76530612244898|77.57142857142857|  0.002580645161290...|  12.965957446808513| 4.829787234042553|29.905510204081637|  3.875510204081633|\n",
      "+-----------------+-------------------+-----------------+----------------------+--------------------+------------------+------------------+-------------------+\n",
      "only showing top 5 rows\n",
      "\n"
     ]
    }
   ],
   "source": [
    "df = df.withColumn('Weather_Timestamp', f.to_date(f.col('Weather_Timestamp')))\n",
    "media_clima = df.groupBy('Weather_Timestamp').agg(\n",
    "    {   \n",
    "     'Temperature(F)': 'avg',\n",
    "     'Wind_Chill(F)': 'avg',\n",
    "     'Humidity(%)': 'avg',\n",
    "     'Pressure(in)': 'avg',\n",
    "     'Visibility(mi)': 'avg',\n",
    "     'Wind_Speed(mph)': 'avg',\n",
    "     'Precipitation(in)': 'avg'\n",
    "    }\n",
    "    ).orderBy('Weather_Timestamp')\n",
    "media_clima.show(5)"
   ]
  },
  {
   "cell_type": "code",
   "execution_count": 58,
   "metadata": {},
   "outputs": [
    {
     "name": "stdout",
     "output_type": "stream",
     "text": [
      "+-----------------+-------------------+----------------+----------------------+--------------------+------------------+-----------------+-------------------+\n",
      "|Weather_Timestamp|avg(Temperature(F))|avg(Humidity(%))|avg(Precipitation(in))|avg(Wind_Speed(mph))|avg(Wind_Chill(F))|avg(Pressure(in))|avg(Visibility(mi))|\n",
      "+-----------------+-------------------+----------------+----------------------+--------------------+------------------+-----------------+-------------------+\n",
      "|             NULL|               NULL|            NULL|                  NULL|                NULL|              NULL|             NULL|               NULL|\n",
      "|       2016-01-14|               31.0|            69.0|                   0.0|                 3.0|              31.0|            29.53|               10.0|\n",
      "|       2016-02-08|              35.39|           91.82|                  0.02|                6.36|             30.18|            29.64|               7.13|\n",
      "|       2016-02-09|              23.53|           87.12|                   0.0|               11.46|             12.56|            29.68|               2.41|\n",
      "|       2016-02-10|              17.77|           77.57|                   0.0|               12.97|              4.83|            29.91|               3.88|\n",
      "|       2016-02-11|              15.89|           65.31|                   0.0|                9.07|              5.43|            30.24|               9.26|\n",
      "|       2016-02-12|              19.21|           66.33|                   0.0|               15.93|              5.14|            30.18|               8.42|\n",
      "|       2016-02-13|              10.14|           58.36|                   0.0|               11.94|             -4.46|            30.49|               10.0|\n",
      "|       2016-02-14|              13.19|           80.18|                  0.01|                9.71|              0.65|            30.34|               5.83|\n",
      "|       2016-02-15|              26.93|           90.85|                   0.0|                6.53|             19.14|            29.99|               3.85|\n",
      "|       2016-02-16|              32.03|           90.81|                  0.02|                7.61|             25.29|            29.75|               4.22|\n",
      "|       2016-02-17|              30.84|           81.31|                   0.0|                6.61|             24.72|            30.12|               6.03|\n",
      "|       2016-02-18|              26.57|           73.68|                  NULL|                6.97|             20.69|            30.51|               8.48|\n",
      "|       2016-02-19|              51.17|           48.69|                  NULL|               18.84|             31.39|            29.95|               10.0|\n",
      "|       2016-02-20|              61.28|            47.0|                  NULL|                11.5|              NULL|            30.02|               10.0|\n",
      "|       2016-02-21|               49.0|           83.86|                  0.08|                 5.2|              31.6|            29.95|               6.86|\n",
      "|       2016-02-22|              36.24|           74.85|                  NULL|                6.71|             29.61|            30.15|               9.89|\n",
      "|       2016-02-23|              42.41|           62.67|                  NULL|                9.02|             28.27|            30.01|              10.18|\n",
      "|       2016-02-24|              42.65|           91.87|                  0.07|               13.93|             30.96|            29.35|               5.46|\n",
      "|       2016-02-25|              32.37|            83.5|                   0.0|               16.67|             21.65|            29.67|                5.5|\n",
      "+-----------------+-------------------+----------------+----------------------+--------------------+------------------+-----------------+-------------------+\n",
      "only showing top 20 rows\n",
      "\n"
     ]
    }
   ],
   "source": [
    "for coluna in media_clima.columns:\n",
    "    if coluna.startswith('avg'):\n",
    "        media_clima = media_clima.withColumn(coluna, f.round(f.col(coluna), 2))\n",
    "media_clima.show()"
   ]
  },
  {
   "cell_type": "code",
   "execution_count": 60,
   "metadata": {},
   "outputs": [
    {
     "name": "stdout",
     "output_type": "stream",
     "text": [
      "+--------------+-----+----------+------------+----------------+--------+--------------+-----------------+-------+-----+--------+--------+--------+-------+-------+----------+-------+-----+---------------+--------------+------------+--------------+--------------+-----------------+---------------------+-----+\n",
      "|Occurrence_day|State|    County|        City|          Street|Severity|Wind_Direction|Weather_Condition|Amenity| Bump|Crossing|Give_Way|Junction|No_Exit|Railway|Roundabout|Station| Stop|Traffic_Calming|Traffic_Signal|Turning_Loop|Sunrise_Sunset|Civil_Twilight|Nautical_Twilight|Astronomical_Twilight|count|\n",
      "+--------------+-----+----------+------------+----------------+--------+--------------+-----------------+-------+-----+--------+--------+--------+-------+-------+----------+-------+-----+---------------+--------------+------------+--------------+--------------+-----------------+---------------------+-----+\n",
      "|    2016-01-14|   PA|    Lehigh|   Whitehall|         US-22 E|       4|             N|             Fair|  false|false|   false|   false|   false|  false|  false|     false|  false|false|          false|         false|       false|         Night|         Night|            Night|                Night|    7|\n",
      "|    2016-02-08|   OH|  Franklin|    Columbus|     Outerbelt N|       3|          Calm|         Overcast|  false|false|   false|   false|   false|  false|  false|     false|  false|false|          false|         false|       false|         Night|         Night|            Night|                  Day|    1|\n",
      "|    2016-02-08|   OH|Montgomery|      Dayton|Bellefontaine Rd|       2|            NW|       Light Rain|  false|false|   false|   false|   false|  false|  false|     false|  false|false|          false|         false|       false|           Day|           Day|              Day|                  Day|    1|\n",
      "|    2016-02-08|   OH|  Harrison|    Freeport|        Cadiz Rd|       3|          Calm|    Mostly Cloudy|  false|false|   false|   false|   false|  false|  false|     false|  false|false|          false|         false|       false|         Night|           Day|              Day|                  Day|    1|\n",
      "|    2016-02-08|   IN|     Allen|     Roanoke|         US-33 S|       2|          West|       Light Snow|  false|false|   false|   false|   false|  false|  false|     false|  false|false|          false|         false|       false|         Night|         Night|            Night|                Night|    1|\n",
      "|    2016-02-08|   OH|Montgomery|      Dayton|     W Helena St|       2|           WNW|    Mostly Cloudy|  false|false|   false|   false|   false|  false|  false|     false|  false|false|          false|          true|       false|           Day|           Day|              Day|                  Day|    1|\n",
      "|    2016-02-08|   OH|Montgomery|      Dayton|  N Woodward Ave|       2|           WSW|         Overcast|  false|false|   false|   false|   false|  false|  false|     false|  false|false|          false|         false|       false|           Day|           Day|              Day|                  Day|    1|\n",
      "|    2016-02-08|   OH|Montgomery|      Dayton| W Hillcrest Ave|       2|          West|    Mostly Cloudy|  false|false|   false|   false|   false|  false|  false|     false|  false|false|          false|         false|       false|           Day|           Day|              Day|                  Day|    1|\n",
      "|    2016-02-08|   OH|  Clermont|Williamsburg|  State Route 32|       2|            SW|         Overcast|  false|false|   false|   false|   false|  false|  false|     false|  false|false|          false|          true|       false|         Night|         Night|              Day|                  Day|    1|\n",
      "|    2016-02-08|   OH|Montgomery|      Dayton|      Rubicon St|       2|           WSW|         Overcast|  false|false|    true|   false|   false|  false|  false|     false|  false|false|          false|          true|       false|           Day|           Day|              Day|                  Day|    1|\n",
      "|    2016-02-08|   OH|  Franklin|    Columbus|     North Fwy S|       3|         South|         Overcast|  false|false|   false|   false|   false|  false|  false|     false|  false|false|          false|         false|       false|         Night|           Day|              Day|                  Day|    1|\n",
      "|    2016-02-08|   KY|    Kenton| Ft Mitchell|          I-75 S|       3|          West|       Light Snow|  false|false|   false|   false|   false|  false|  false|     false|  false|false|          false|         false|       false|         Night|         Night|            Night|                Night|    1|\n",
      "|    2016-02-08|   OH|    Summit|       Akron|          I-77 N|       2|          Calm|         Overcast|  false|false|   false|   false|   false|  false|  false|     false|  false|false|          false|         false|       false|         Night|         Night|              Day|                  Day|    1|\n",
      "|    2016-02-08|   OH|    Greene|   Jamestown|          I-71 N|       2|          West|       Light Snow|  false|false|   false|   false|   false|  false|  false|     false|  false|false|          false|         false|       false|           Day|           Day|              Day|                  Day|    1|\n",
      "|    2016-02-08|   OH|  Cuyahoga|   Cleveland|          I-71 S|       2|            SW|             Snow|  false|false|   false|   false|    true|  false|  false|     false|  false|false|          false|         false|       false|           Day|           Day|              Day|                  Day|    1|\n",
      "|    2016-02-08|   OH|Montgomery|      Dayton|          I-70 E|       3|          Calm|       Light Rain|  false|false|   false|   false|   false|  false|  false|     false|  false|false|          false|         false|       false|         Night|         Night|            Night|                Night|    1|\n",
      "|    2016-02-08|   OH|     Allen|        Lima|   E Hanthorn Rd|       2|           WNW|         Overcast|  false|false|   false|   false|   false|  false|  false|     false|  false|false|          false|         false|       false|           Day|           Day|              Day|                  Day|    1|\n",
      "|    2016-02-08|   OH|Montgomery|      Dayton|      Irving Ave|       2|          West|       Light Snow|  false|false|   false|   false|   false|  false|  false|     false|  false|false|          false|          true|       false|           Day|           Day|              Day|                  Day|    1|\n",
      "|    2016-02-08|   OH|  Franklin|    Columbus|     North Fwy S|       3|          West|       Light Snow|  false|false|   false|   false|   false|  false|  false|     false|  false|false|          false|         false|       false|         Night|         Night|            Night|                Night|    1|\n",
      "|    2016-02-08|   OH|Montgomery|      Dayton|  Watervliet Ave|       2|            SW|         Overcast|  false|false|   false|   false|   false|  false|  false|     false|  false|false|          false|         false|       false|           Day|           Day|              Day|                  Day|    1|\n",
      "+--------------+-----+----------+------------+----------------+--------+--------------+-----------------+-------+-----+--------+--------+--------+-------+-------+----------+-------+-----+---------------+--------------+------------+--------------+--------------+-----------------+---------------------+-----+\n",
      "only showing top 20 rows\n",
      "\n"
     ]
    }
   ],
   "source": [
    "acidentes = df.groupBy('Occurrence_day', 'State', 'County', 'City', 'Street', 'Severity', 'Wind_Direction',\\\n",
    "                       'Weather_Condition', 'Amenity', 'Bump', 'Crossing', 'Give_Way', 'Junction', 'No_Exit',\\\n",
    "                       'Railway', 'Roundabout', 'Station', 'Stop', 'Traffic_Calming', 'Traffic_Signal', 'Turning_Loop',\\\n",
    "                       'Sunrise_Sunset', 'Civil_Twilight', 'Nautical_Twilight', 'Astronomical_Twilight'  \n",
    "                       ).count().orderBy('Occurrence_day')\n",
    "acidentes.show()"
   ]
  },
  {
   "cell_type": "code",
   "execution_count": 61,
   "metadata": {},
   "outputs": [
    {
     "name": "stdout",
     "output_type": "stream",
     "text": [
      "+--------------+-----+----------+------------+--------------------+--------+--------------+-----------------+-------+-----+--------+--------+--------+-------+-------+----------+-------+-----+---------------+--------------+------------+--------------+--------------+-----------------+---------------------+-----+-----------------+-------------------+----------------+----------------------+--------------------+------------------+-----------------+-------------------+\n",
      "|Occurrence_day|State|    County|        City|              Street|Severity|Wind_Direction|Weather_Condition|Amenity| Bump|Crossing|Give_Way|Junction|No_Exit|Railway|Roundabout|Station| Stop|Traffic_Calming|Traffic_Signal|Turning_Loop|Sunrise_Sunset|Civil_Twilight|Nautical_Twilight|Astronomical_Twilight|count|Weather_Timestamp|avg(Temperature(F))|avg(Humidity(%))|avg(Precipitation(in))|avg(Wind_Speed(mph))|avg(Wind_Chill(F))|avg(Pressure(in))|avg(Visibility(mi))|\n",
      "+--------------+-----+----------+------------+--------------------+--------+--------------+-----------------+-------+-----+--------+--------+--------+-------+-------+----------+-------+-----+---------------+--------------+------------+--------------+--------------+-----------------+---------------------+-----+-----------------+-------------------+----------------+----------------------+--------------------+------------------+-----------------+-------------------+\n",
      "|    2016-01-14|   PA|    Lehigh|   Whitehall|             US-22 E|       4|             N|             Fair|  false|false|   false|   false|   false|  false|  false|     false|  false|false|          false|         false|       false|         Night|         Night|            Night|                Night|    7|       2016-01-14|               31.0|            69.0|                   0.0|                 3.0|              31.0|            29.53|               10.0|\n",
      "|    2016-02-08|   OH|  Franklin|    Columbus|         Outerbelt S|       2|          Calm|         Overcast|  false|false|   false|   false|   false|  false|  false|     false|  false|false|          false|         false|       false|         Night|         Night|            Night|                Night|    1|       2016-02-08|              35.39|           91.82|                  0.02|                6.36|             30.18|            29.64|               7.13|\n",
      "|    2016-02-08|   OH|  Cuyahoga|   Cleveland|              I-90 E|       2|          West|       Light Snow|  false|false|   false|   false|   false|  false|  false|     false|  false|false|          false|         false|       false|           Day|           Day|              Day|                  Day|    1|       2016-02-08|              35.39|           91.82|                  0.02|                6.36|             30.18|            29.64|               7.13|\n",
      "|    2016-02-08|   OH|  Cuyahoga|   Cleveland|              I-71 S|       2|            SW|             Snow|  false|false|   false|   false|    true|  false|  false|     false|  false|false|          false|         false|       false|           Day|           Day|              Day|                  Day|    1|       2016-02-08|              35.39|           91.82|                  0.02|                6.36|             30.18|            29.64|               7.13|\n",
      "|    2016-02-08|   OH|  Franklin|    Columbus|         Outerbelt S|       3|           WNW|             Rain|  false|false|    true|   false|    true|  false|  false|     false|  false|false|          false|         false|       false|           Day|           Day|              Day|                  Day|    1|       2016-02-08|              35.39|           91.82|                  0.02|                6.36|             30.18|            29.64|               7.13|\n",
      "|    2016-02-08|   OH|  Franklin|    Columbus|         North Fwy S|       3|         South|         Overcast|  false|false|   false|   false|   false|  false|  false|     false|  false|false|          false|         false|       false|         Night|           Day|              Day|                  Day|    1|       2016-02-08|              35.39|           91.82|                  0.02|                6.36|             30.18|            29.64|               7.13|\n",
      "|    2016-02-08|   OH|  Franklin| Westerville|         Outerbelt W|       2|          West|             Snow|  false|false|   false|   false|   false|  false|  false|     false|  false|false|          false|         false|       false|           Day|           Day|              Day|                  Day|    1|       2016-02-08|              35.39|           91.82|                  0.02|                6.36|             30.18|            29.64|               7.13|\n",
      "|    2016-02-08|   OH|  Franklin|    Columbus|         North Fwy S|       3|          West|         Overcast|  false|false|   false|   false|   false|  false|  false|     false|  false|false|          false|         false|       false|           Day|           Day|              Day|                  Day|    1|       2016-02-08|              35.39|           91.82|                  0.02|                6.36|             30.18|            29.64|               7.13|\n",
      "|    2016-02-08|   OH|    Greene|   Jamestown|              I-71 N|       2|          West|       Light Snow|  false|false|   false|   false|   false|  false|  false|     false|  false|false|          false|         false|       false|           Day|           Day|              Day|                  Day|    1|       2016-02-08|              35.39|           91.82|                  0.02|                6.36|             30.18|            29.64|               7.13|\n",
      "|    2016-02-08|   OH|  Franklin|    Columbus|         North Fwy S|       3|          West|       Light Snow|  false|false|   false|   false|   false|  false|  false|     false|  false|false|          false|         false|       false|         Night|         Night|            Night|                Night|    1|       2016-02-08|              35.39|           91.82|                  0.02|                6.36|             30.18|            29.64|               7.13|\n",
      "|    2016-02-08|   OH|  Franklin| Westerville|      Westerville Rd|       3|           SSW|       Light Rain|  false|false|   false|   false|   false|  false|  false|     false|  false|false|          false|         false|       false|           Day|           Day|              Day|                  Day|    2|       2016-02-08|              35.39|           91.82|                  0.02|                6.36|             30.18|            29.64|               7.13|\n",
      "|    2016-02-08|   OH|  Franklin|Reynoldsburg|              I-70 E|       3|           SSW|       Light Rain|  false|false|   false|   false|   false|  false|  false|     false|  false|false|          false|         false|       false|           Day|           Day|              Day|                  Day|    1|       2016-02-08|              35.39|           91.82|                  0.02|                6.36|             30.18|            29.64|               7.13|\n",
      "|    2016-02-08|   OH|Montgomery|      Dayton|          Irving Ave|       2|          West|       Light Snow|  false|false|   false|   false|   false|  false|  false|     false|  false|false|          false|          true|       false|           Day|           Day|              Day|                  Day|    1|       2016-02-08|              35.39|           91.82|                  0.02|                6.36|             30.18|            29.64|               7.13|\n",
      "|    2016-02-08|   OH|    Summit|       Akron|              I-77 N|       2|          Calm|         Overcast|  false|false|   false|   false|   false|  false|  false|     false|  false|false|          false|         false|       false|         Night|         Night|              Day|                  Day|    1|       2016-02-08|              35.39|           91.82|                  0.02|                6.36|             30.18|            29.64|               7.13|\n",
      "|    2016-02-08|   OH|Montgomery|      Dayton|Miamisburg Center...|       2|            SW|    Mostly Cloudy|  false|false|   false|   false|   false|  false|  false|     false|  false|false|          false|          true|       false|           Day|           Day|              Day|                  Day|    1|       2016-02-08|              35.39|           91.82|                  0.02|                6.36|             30.18|            29.64|               7.13|\n",
      "|    2016-02-08|   OH|     Lucas|      Toledo|              I-75 S|       4|          West|         Overcast|  false|false|   false|   false|   false|  false|  false|     false|  false|false|          false|         false|       false|         Night|         Night|            Night|                Night|    1|       2016-02-08|              35.39|           91.82|                  0.02|                6.36|             30.18|            29.64|               7.13|\n",
      "|    2016-02-08|   OH|  Clermont|Williamsburg|      State Route 32|       2|            SW|         Overcast|  false|false|   false|   false|   false|  false|  false|     false|  false|false|          false|          true|       false|         Night|         Night|              Day|                  Day|    1|       2016-02-08|              35.39|           91.82|                  0.02|                6.36|             30.18|            29.64|               7.13|\n",
      "|    2016-02-08|   KY|    Kenton| Ft Mitchell|              I-75 S|       3|          West|       Light Snow|  false|false|   false|   false|   false|  false|  false|     false|  false|false|          false|         false|       false|         Night|         Night|            Night|                Night|    1|       2016-02-08|              35.39|           91.82|                  0.02|                6.36|             30.18|            29.64|               7.13|\n",
      "|    2016-02-08|   OH|  Franklin|    Columbus|        Brookhill Dr|       2|           NNW|       Light Snow|  false|false|   false|   false|   false|  false|  false|     false|  false|false|          false|         false|       false|           Day|           Day|              Day|                  Day|    1|       2016-02-08|              35.39|           91.82|                  0.02|                6.36|             30.18|            29.64|               7.13|\n",
      "|    2016-02-08|   OH|Montgomery|      Dayton|           N Main St|       3|           WSW|         Overcast|  false|false|   false|   false|   false|  false|  false|     false|  false|false|          false|         false|       false|           Day|           Day|              Day|                  Day|    1|       2016-02-08|              35.39|           91.82|                  0.02|                6.36|             30.18|            29.64|               7.13|\n",
      "+--------------+-----+----------+------------+--------------------+--------+--------------+-----------------+-------+-----+--------+--------+--------+-------+-------+----------+-------+-----+---------------+--------------+------------+--------------+--------------+-----------------+---------------------+-----+-----------------+-------------------+----------------+----------------------+--------------------+------------------+-----------------+-------------------+\n",
      "only showing top 20 rows\n",
      "\n"
     ]
    }
   ],
   "source": [
    "acidentes = acidentes.join(media_clima, on = media_clima['Weather_Timestamp'] == acidentes['Occurrence_day']).orderBy('Occurrence_day')\n",
    "acidentes.show() "
   ]
  },
  {
   "cell_type": "code",
   "execution_count": 49,
   "metadata": {},
   "outputs": [
    {
     "name": "stdout",
     "output_type": "stream",
     "text": [
      "+--------------+-----+----------+----------+--------------------+--------+--------------+-----------------+-------+-----+--------+--------+--------+-------+-------+----------+-------+-----+---------------+--------------+------------+--------------+--------------+-----------------+---------------------+-----+-------------------+-----------------+----------------------+--------------------+------------------+------------------+-------------------+\n",
      "|Occurrence_day|State|    County|      City|              Street|Severity|Wind_Direction|Weather_Condition|Amenity| Bump|Crossing|Give_Way|Junction|No_Exit|Railway|Roundabout|Station| Stop|Traffic_Calming|Traffic_Signal|Turning_Loop|Sunrise_Sunset|Civil_Twilight|Nautical_Twilight|Astronomical_Twilight|count|avg(Temperature(F))| avg(Humidity(%))|avg(Precipitation(in))|avg(Wind_Speed(mph))|avg(Wind_Chill(F))| avg(Pressure(in))|avg(Visibility(mi))|\n",
      "+--------------+-----+----------+----------+--------------------+--------+--------------+-----------------+-------+-----+--------+--------+--------+-------+-------+----------+-------+-----+---------------+--------------+------------+--------------+--------------+-----------------+---------------------+-----+-------------------+-----------------+----------------------+--------------------+------------------+------------------+-------------------+\n",
      "|    2016-01-14|   PA|    Lehigh| Whitehall|             US-22 E|       4|             N|             Fair|  false|false|   false|   false|   false|  false|  false|     false|  false|false|          false|         false|       false|         Night|         Night|            Night|                Night|    7|               31.0|             69.0|                   0.0|                 3.0|              31.0|             29.53|               10.0|\n",
      "|    2016-02-08|   OH|  Franklin|  Columbus|         Outerbelt N|       3|          Calm|         Overcast|  false|false|   false|   false|   false|  false|  false|     false|  false|false|          false|         false|       false|         Night|         Night|            Night|                  Day|    1| 35.388333333333335|91.81666666666666|  0.019375000000000003|  6.3632653061224485|30.177272727272733|29.644833333333334|               7.13|\n",
      "|    2016-02-08|   OH|  Cuyahoga| Cleveland|              I-90 E|       2|          West|       Light Snow|  false|false|   false|   false|   false|  false|  false|     false|  false|false|          false|         false|       false|           Day|           Day|              Day|                  Day|    1| 35.388333333333335|91.81666666666666|  0.019375000000000003|  6.3632653061224485|30.177272727272733|29.644833333333334|               7.13|\n",
      "|    2016-02-08|   OH|  Cuyahoga| Cleveland|              I-71 S|       2|            SW|             Snow|  false|false|   false|   false|    true|  false|  false|     false|  false|false|          false|         false|       false|           Day|           Day|              Day|                  Day|    1| 35.388333333333335|91.81666666666666|  0.019375000000000003|  6.3632653061224485|30.177272727272733|29.644833333333334|               7.13|\n",
      "|    2016-02-08|   OH|Montgomery|    Dayton|Miamisburg Center...|       2|            SW|    Mostly Cloudy|  false|false|   false|   false|   false|  false|  false|     false|  false|false|          false|          true|       false|           Day|           Day|              Day|                  Day|    1| 35.388333333333335|91.81666666666666|  0.019375000000000003|  6.3632653061224485|30.177272727272733|29.644833333333334|               7.13|\n",
      "|    2016-02-08|   OH|  Franklin|  Columbus|         North Fwy S|       3|         South|         Overcast|  false|false|   false|   false|   false|  false|  false|     false|  false|false|          false|         false|       false|         Night|           Day|              Day|                  Day|    1| 35.388333333333335|91.81666666666666|  0.019375000000000003|  6.3632653061224485|30.177272727272733|29.644833333333334|               7.13|\n",
      "|    2016-02-08|   OH|  Franklin|  Columbus|        Brookhill Dr|       2|           NNW|       Light Snow|  false|false|   false|   false|   false|  false|  false|     false|  false|false|          false|         false|       false|           Day|           Day|              Day|                  Day|    1| 35.388333333333335|91.81666666666666|  0.019375000000000003|  6.3632653061224485|30.177272727272733|29.644833333333334|               7.13|\n",
      "|    2016-02-08|   OH|Montgomery|Miamisburg|     Springboro Pike|       2|           WSW|         Overcast|  false|false|   false|   false|   false|  false|  false|     false|  false|false|          false|          true|       false|           Day|           Day|              Day|                  Day|    1| 35.388333333333335|91.81666666666666|  0.019375000000000003|  6.3632653061224485|30.177272727272733|29.644833333333334|               7.13|\n",
      "|    2016-02-08|   OH|Montgomery|    Dayton|      Watervliet Ave|       2|            SW|         Overcast|  false|false|   false|   false|   false|  false|  false|     false|  false|false|          false|         false|       false|           Day|           Day|              Day|                  Day|    1| 35.388333333333335|91.81666666666666|  0.019375000000000003|  6.3632653061224485|30.177272727272733|29.644833333333334|               7.13|\n",
      "|    2016-02-08|   OH|  Clermont|   Batavia|      State Route 32|       2|           WSW|         Overcast|  false|false|   false|   false|   false|  false|  false|     false|  false|false|          false|         false|       false|           Day|           Day|              Day|                  Day|    1| 35.388333333333335|91.81666666666666|  0.019375000000000003|  6.3632653061224485|30.177272727272733|29.644833333333334|               7.13|\n",
      "+--------------+-----+----------+----------+--------------------+--------+--------------+-----------------+-------+-----+--------+--------+--------+-------+-------+----------+-------+-----+---------------+--------------+------------+--------------+--------------+-----------------+---------------------+-----+-------------------+-----------------+----------------------+--------------------+------------------+------------------+-------------------+\n",
      "only showing top 10 rows\n",
      "\n"
     ]
    }
   ],
   "source": [
    "acidentes = acidentes.drop('Weather_Timestamp')\n",
    "acidentes.show(10)\n"
   ]
  },
  {
   "cell_type": "code",
   "execution_count": 63,
   "metadata": {},
   "outputs": [
    {
     "name": "stdout",
     "output_type": "stream",
     "text": [
      "+--------------+-----+------+----+------+--------+--------------+-----------------+-------+----+--------+--------+--------+-------+-------+----------+-------+----+---------------+--------------+------------+--------------+--------------+-----------------+---------------------+-----+-----------------+-------------------+----------------+----------------------+--------------------+------------------+-----------------+-------------------+\n",
      "|Occurrence_day|State|County|City|Street|Severity|Wind_Direction|Weather_Condition|Amenity|Bump|Crossing|Give_Way|Junction|No_Exit|Railway|Roundabout|Station|Stop|Traffic_Calming|Traffic_Signal|Turning_Loop|Sunrise_Sunset|Civil_Twilight|Nautical_Twilight|Astronomical_Twilight|count|Weather_Timestamp|avg(Temperature(F))|avg(Humidity(%))|avg(Precipitation(in))|avg(Wind_Speed(mph))|avg(Wind_Chill(F))|avg(Pressure(in))|avg(Visibility(mi))|\n",
      "+--------------+-----+------+----+------+--------+--------------+-----------------+-------+----+--------+--------+--------+-------+-------+----------+-------+----+---------------+--------------+------------+--------------+--------------+-----------------+---------------------+-----+-----------------+-------------------+----------------+----------------------+--------------------+------------------+-----------------+-------------------+\n",
      "|             0|    0|     0| 236|  9126|       0|        141063|           143423|      0|   0|       0|       0|       0|      0|      0|         0|      0|   0|              0|             0|           0|         18219|         18219|            18219|                18219|    0|                0|                  0|               0|                   620|                   0|               230|                0|                  0|\n",
      "+--------------+-----+------+----+------+--------+--------------+-----------------+-------+----+--------+--------+--------+-------+-------+----------+-------+----+---------------+--------------+------------+--------------+--------------+-----------------+---------------------+-----+-----------------+-------------------+----------------+----------------------+--------------------+------------------+-----------------+-------------------+\n",
      "\n"
     ]
    }
   ],
   "source": [
    "null = [f.sum(f.when(f.col(c).isNull(), 1).otherwise(0)).alias(c) for c in acidentes.columns]\n",
    "df_null = acidentes.agg(*null)\n",
    "df_null.show()"
   ]
  },
  {
   "cell_type": "code",
   "execution_count": null,
   "metadata": {},
   "outputs": [],
   "source": []
  }
 ],
 "metadata": {
  "kernelspec": {
   "display_name": "venv",
   "language": "python",
   "name": "python3"
  },
  "language_info": {
   "codemirror_mode": {
    "name": "ipython",
    "version": 3
   },
   "file_extension": ".py",
   "mimetype": "text/x-python",
   "name": "python",
   "nbconvert_exporter": "python",
   "pygments_lexer": "ipython3",
   "version": "3.11.5"
  }
 },
 "nbformat": 4,
 "nbformat_minor": 2
}
