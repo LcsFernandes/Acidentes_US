{
 "cells": [
  {
   "cell_type": "code",
   "execution_count": 1,
   "metadata": {},
   "outputs": [],
   "source": [
    "from pyspark.sql import SparkSession\n",
    "from pyspark.sql import functions as f\n"
   ]
  },
  {
   "cell_type": "code",
   "execution_count": 2,
   "metadata": {},
   "outputs": [
    {
     "data": {
      "text/html": [
       "\n",
       "            <div>\n",
       "                <p><b>SparkSession - in-memory</b></p>\n",
       "                \n",
       "        <div>\n",
       "            <p><b>SparkContext</b></p>\n",
       "\n",
       "            <p><a href=\"http://DESKTOP-G483Q4K:4040\">Spark UI</a></p>\n",
       "\n",
       "            <dl>\n",
       "              <dt>Version</dt>\n",
       "                <dd><code>v3.5.1</code></dd>\n",
       "              <dt>Master</dt>\n",
       "                <dd><code>local[*]</code></dd>\n",
       "              <dt>AppName</dt>\n",
       "                <dd><code>mySpark</code></dd>\n",
       "            </dl>\n",
       "        </div>\n",
       "        \n",
       "            </div>\n",
       "        "
      ],
      "text/plain": [
       "<pyspark.sql.session.SparkSession at 0x18b630f4510>"
      ]
     },
     "execution_count": 2,
     "metadata": {},
     "output_type": "execute_result"
    }
   ],
   "source": [
    "spark = SparkSession.builder.appName('mySpark').master('local[*]').getOrCreate()\n",
    "spark"
   ]
  },
  {
   "cell_type": "code",
   "execution_count": 3,
   "metadata": {},
   "outputs": [],
   "source": [
    "df = spark.read.csv('US_Accidents_March23.csv', header = True, inferSchema = True)\n",
    "#df.show(5)"
   ]
  },
  {
   "cell_type": "code",
   "execution_count": 4,
   "metadata": {},
   "outputs": [
    {
     "name": "stdout",
     "output_type": "stream",
     "text": [
      "root\n",
      " |-- ID: string (nullable = true)\n",
      " |-- Source: string (nullable = true)\n",
      " |-- Severity: integer (nullable = true)\n",
      " |-- Start_Time: timestamp (nullable = true)\n",
      " |-- End_Time: timestamp (nullable = true)\n",
      " |-- Start_Lat: double (nullable = true)\n",
      " |-- Start_Lng: double (nullable = true)\n",
      " |-- End_Lat: double (nullable = true)\n",
      " |-- End_Lng: double (nullable = true)\n",
      " |-- Distance(mi): double (nullable = true)\n",
      " |-- Description: string (nullable = true)\n",
      " |-- Street: string (nullable = true)\n",
      " |-- City: string (nullable = true)\n",
      " |-- County: string (nullable = true)\n",
      " |-- State: string (nullable = true)\n",
      " |-- Zipcode: string (nullable = true)\n",
      " |-- Country: string (nullable = true)\n",
      " |-- Timezone: string (nullable = true)\n",
      " |-- Airport_Code: string (nullable = true)\n",
      " |-- Weather_Timestamp: timestamp (nullable = true)\n",
      " |-- Temperature(F): double (nullable = true)\n",
      " |-- Wind_Chill(F): double (nullable = true)\n",
      " |-- Humidity(%): double (nullable = true)\n",
      " |-- Pressure(in): double (nullable = true)\n",
      " |-- Visibility(mi): double (nullable = true)\n",
      " |-- Wind_Direction: string (nullable = true)\n",
      " |-- Wind_Speed(mph): double (nullable = true)\n",
      " |-- Precipitation(in): double (nullable = true)\n",
      " |-- Weather_Condition: string (nullable = true)\n",
      " |-- Amenity: boolean (nullable = true)\n",
      " |-- Bump: boolean (nullable = true)\n",
      " |-- Crossing: boolean (nullable = true)\n",
      " |-- Give_Way: boolean (nullable = true)\n",
      " |-- Junction: boolean (nullable = true)\n",
      " |-- No_Exit: boolean (nullable = true)\n",
      " |-- Railway: boolean (nullable = true)\n",
      " |-- Roundabout: boolean (nullable = true)\n",
      " |-- Station: boolean (nullable = true)\n",
      " |-- Stop: boolean (nullable = true)\n",
      " |-- Traffic_Calming: boolean (nullable = true)\n",
      " |-- Traffic_Signal: boolean (nullable = true)\n",
      " |-- Turning_Loop: boolean (nullable = true)\n",
      " |-- Sunrise_Sunset: string (nullable = true)\n",
      " |-- Civil_Twilight: string (nullable = true)\n",
      " |-- Nautical_Twilight: string (nullable = true)\n",
      " |-- Astronomical_Twilight: string (nullable = true)\n",
      "\n"
     ]
    }
   ],
   "source": [
    "df.printSchema()"
   ]
  },
  {
   "cell_type": "code",
   "execution_count": 5,
   "metadata": {},
   "outputs": [
    {
     "data": {
      "text/plain": [
       "7728394"
      ]
     },
     "execution_count": 5,
     "metadata": {},
     "output_type": "execute_result"
    }
   ],
   "source": [
    "df.count()"
   ]
  },
  {
   "cell_type": "code",
   "execution_count": 6,
   "metadata": {},
   "outputs": [
    {
     "name": "stdout",
     "output_type": "stream",
     "text": [
      "+---+------+--------+----------+--------+---------+---------+-------+-------+------------+-----------+------+----+------+-----+-------+-------+--------+------------+-----------------+--------------+-------------+-----------+------------+--------------+--------------+---------------+-----------------+-----------------+-------+----+--------+--------+--------+-------+-------+----------+-------+----+---------------+--------------+------------+--------------+--------------+-----------------+---------------------+\n",
      "| ID|Source|Severity|Start_Time|End_Time|Start_Lat|Start_Lng|End_Lat|End_Lng|Distance(mi)|Description|Street|City|County|State|Zipcode|Country|Timezone|Airport_Code|Weather_Timestamp|Temperature(F)|Wind_Chill(F)|Humidity(%)|Pressure(in)|Visibility(mi)|Wind_Direction|Wind_Speed(mph)|Precipitation(in)|Weather_Condition|Amenity|Bump|Crossing|Give_Way|Junction|No_Exit|Railway|Roundabout|Station|Stop|Traffic_Calming|Traffic_Signal|Turning_Loop|Sunrise_Sunset|Civil_Twilight|Nautical_Twilight|Astronomical_Twilight|\n",
      "+---+------+--------+----------+--------+---------+---------+-------+-------+------------+-----------+------+----+------+-----+-------+-------+--------+------------+-----------------+--------------+-------------+-----------+------------+--------------+--------------+---------------+-----------------+-----------------+-------+----+--------+--------+--------+-------+-------+----------+-------+----+---------------+--------------+------------+--------------+--------------+-----------------+---------------------+\n",
      "|  0|     0|       0|         0|       0|        0|        0|3402762|3402762|           0|          5| 10869| 253|     0|    0|   1915|      0|    7808|       22635|           120228|        163853|      1999019|     174144|      140679|        177098|        175206|         571233|          2203586|           173459|      0|   0|       0|       0|       0|      0|      0|         0|      0|   0|              0|             0|           0|         23246|         23246|            23246|                23246|\n",
      "+---+------+--------+----------+--------+---------+---------+-------+-------+------------+-----------+------+----+------+-----+-------+-------+--------+------------+-----------------+--------------+-------------+-----------+------------+--------------+--------------+---------------+-----------------+-----------------+-------+----+--------+--------+--------+-------+-------+----------+-------+----+---------------+--------------+------------+--------------+--------------+-----------------+---------------------+\n",
      "\n"
     ]
    }
   ],
   "source": [
    "#null = [f.sum(f.when(f.col(c).isNull(), 1).otherwise(0)).alias(c) for c in df.columns]\n",
    "#df_null = df.agg(*null)\n",
    "#df_null.show()"
   ]
  },
  {
   "cell_type": "code",
   "execution_count": 7,
   "metadata": {},
   "outputs": [],
   "source": [
    "df = df.drop('Source', 'Start_Lat', 'Start_Lng', 'End_Lat', 'End_Lng', 'Distance(mi)', 'Zipcode', 'Airport_Code')\n",
    "#df.show(5)"
   ]
  },
  {
   "cell_type": "code",
   "execution_count": 8,
   "metadata": {},
   "outputs": [],
   "source": [
    "df = df.withColumn('Occurrence_day', f.to_date(f.col('Start_Time')))\n",
    "#df.show(5)\n"
   ]
  },
  {
   "cell_type": "code",
   "execution_count": 9,
   "metadata": {},
   "outputs": [],
   "source": [
    "df = df.withColumn('Weather_Timestamp', f.to_date(f.col('Weather_Timestamp')))\n",
    "media_clima = df.groupBy('Weather_Timestamp').agg(\n",
    "    {   \n",
    "     'Temperature(F)': 'avg',\n",
    "     'Wind_Chill(F)': 'avg',\n",
    "     'Humidity(%)': 'avg',\n",
    "     'Pressure(in)': 'avg',\n",
    "     'Visibility(mi)': 'avg',\n",
    "     'Wind_Speed(mph)': 'avg',\n",
    "     'Precipitation(in)': 'avg'\n",
    "    }\n",
    "    ).orderBy('Weather_Timestamp')\n",
    "#media_clima.show(5)"
   ]
  },
  {
   "cell_type": "code",
   "execution_count": 10,
   "metadata": {},
   "outputs": [],
   "source": [
    "for coluna in media_clima.columns:\n",
    "    if coluna.startswith('avg'):\n",
    "        media_clima = media_clima.withColumn(coluna, f.round(f.col(coluna), 2))\n",
    "#media_clima.show()"
   ]
  },
  {
   "cell_type": "code",
   "execution_count": 11,
   "metadata": {},
   "outputs": [],
   "source": [
    "acidentes = df.groupBy('Occurrence_day', 'State', 'County', 'City', 'Street', 'Severity', 'Wind_Direction',\\\n",
    "                       'Weather_Condition', 'Amenity', 'Bump', 'Crossing', 'Give_Way', 'Junction', 'No_Exit',\\\n",
    "                       'Railway', 'Roundabout', 'Station', 'Stop', 'Traffic_Calming', 'Traffic_Signal', 'Turning_Loop',\\\n",
    "                       'Sunrise_Sunset', 'Civil_Twilight', 'Nautical_Twilight', 'Astronomical_Twilight'  \n",
    "                       ).count().orderBy('Occurrence_day')\n",
    "#acidentes.show()"
   ]
  },
  {
   "cell_type": "code",
   "execution_count": 12,
   "metadata": {},
   "outputs": [],
   "source": [
    "acidentes = acidentes.join(media_clima, on = media_clima['Weather_Timestamp'] == acidentes['Occurrence_day']).orderBy('Occurrence_day')\n",
    "#acidentes.show() "
   ]
  },
  {
   "cell_type": "code",
   "execution_count": 13,
   "metadata": {},
   "outputs": [],
   "source": [
    "acidentes = acidentes.drop('Weather_Timestamp')\n",
    "#acidentes.show(10)\n"
   ]
  },
  {
   "cell_type": "code",
   "execution_count": 14,
   "metadata": {},
   "outputs": [],
   "source": [
    "#null = [f.sum(f.when(f.col(c).isNull(), 1).otherwise(0)).alias(c) for c in acidentes.columns]\n",
    "#df_null = acidentes.agg(*null)\n",
    "#df_null.show()"
   ]
  },
  {
   "cell_type": "code",
   "execution_count": 15,
   "metadata": {},
   "outputs": [],
   "source": [
    "acidentes = acidentes.dropna(how = 'any')\n",
    "#acidentes.show()"
   ]
  },
  {
   "cell_type": "code",
   "execution_count": 16,
   "metadata": {},
   "outputs": [
    {
     "name": "stdout",
     "output_type": "stream",
     "text": [
      "root\n",
      " |-- Occurrence_day: date (nullable = true)\n",
      " |-- State: string (nullable = true)\n",
      " |-- County: string (nullable = true)\n",
      " |-- City: string (nullable = true)\n",
      " |-- Street: string (nullable = true)\n",
      " |-- Severity: integer (nullable = true)\n",
      " |-- Wind_Direction: string (nullable = true)\n",
      " |-- Weather_Condition: string (nullable = true)\n",
      " |-- Amenity: boolean (nullable = true)\n",
      " |-- Bump: boolean (nullable = true)\n",
      " |-- Crossing: boolean (nullable = true)\n",
      " |-- Give_Way: boolean (nullable = true)\n",
      " |-- Junction: boolean (nullable = true)\n",
      " |-- No_Exit: boolean (nullable = true)\n",
      " |-- Railway: boolean (nullable = true)\n",
      " |-- Roundabout: boolean (nullable = true)\n",
      " |-- Station: boolean (nullable = true)\n",
      " |-- Stop: boolean (nullable = true)\n",
      " |-- Traffic_Calming: boolean (nullable = true)\n",
      " |-- Traffic_Signal: boolean (nullable = true)\n",
      " |-- Turning_Loop: boolean (nullable = true)\n",
      " |-- Sunrise_Sunset: string (nullable = true)\n",
      " |-- Civil_Twilight: string (nullable = true)\n",
      " |-- Nautical_Twilight: string (nullable = true)\n",
      " |-- Astronomical_Twilight: string (nullable = true)\n",
      " |-- count: long (nullable = false)\n",
      " |-- avg(Temperature(F)): double (nullable = true)\n",
      " |-- avg(Humidity(%)): double (nullable = true)\n",
      " |-- avg(Precipitation(in)): double (nullable = true)\n",
      " |-- avg(Wind_Speed(mph)): double (nullable = true)\n",
      " |-- avg(Wind_Chill(F)): double (nullable = true)\n",
      " |-- avg(Pressure(in)): double (nullable = true)\n",
      " |-- avg(Visibility(mi)): double (nullable = true)\n",
      "\n"
     ]
    }
   ],
   "source": [
    "acidentes.printSchema()"
   ]
  },
  {
   "cell_type": "code",
   "execution_count": 17,
   "metadata": {},
   "outputs": [],
   "source": [
    "acidentes.write.parquet('Data/Acidentes.parquet')"
   ]
  },
  {
   "cell_type": "code",
   "execution_count": 37,
   "metadata": {},
   "outputs": [
    {
     "name": "stdout",
     "output_type": "stream",
     "text": [
      "+--------------+-----+----------+--------------------+--------------------+--------+--------------+--------------------+-------+-----+--------+--------+--------+-------+-------+----------+-------+-----+---------------+--------------+------------+--------------+--------------+-----------------+---------------------+-----+-------------------+----------------+----------------------+--------------------+------------------+-----------------+-------------------+\n",
      "|Occurrence_day|State|    County|                City|              Street|Severity|Wind_Direction|   Weather_Condition|Amenity| Bump|Crossing|Give_Way|Junction|No_Exit|Railway|Roundabout|Station| Stop|Traffic_Calming|Traffic_Signal|Turning_Loop|Sunrise_Sunset|Civil_Twilight|Nautical_Twilight|Astronomical_Twilight|count|avg(Temperature(F))|avg(Humidity(%))|avg(Precipitation(in))|avg(Wind_Speed(mph))|avg(Wind_Chill(F))|avg(Pressure(in))|avg(Visibility(mi))|\n",
      "+--------------+-----+----------+--------------------+--------------------+--------+--------------+--------------------+-------+-----+--------+--------+--------+-------+-------+----------+-------+-----+---------------+--------------+------------+--------------+--------------+-----------------+---------------------+-----+-------------------+----------------+----------------------+--------------------+------------------+-----------------+-------------------+\n",
      "|    2021-08-27|   AL|  Crenshaw|            Brantley|           S Main St|       2|          CALM|                Fair|  false|false|   false|   false|   false|  false|  false|     false|  false|false|          false|         false|       false|         Night|         Night|              Day|                  Day|    1|              81.57|           64.81|                  0.01|                6.66|             81.56|            29.38|               9.08|\n",
      "|    2021-08-27|   AL| Jefferson|          Birmingham|              I-65 N|       3|           ENE|       Mostly Cloudy|  false|false|   false|   false|   false|  false|  false|     false|  false|false|          false|         false|       false|           Day|           Day|              Day|                  Day|    1|              81.57|           64.81|                  0.01|                6.66|             81.56|            29.38|               9.08|\n",
      "|    2021-08-27|   AL|    Dallas|               Selma|             6th Ave|       2|             E|                Fair|  false|false|   false|   false|   false|  false|  false|     false|  false|false|          false|         false|       false|           Day|           Day|              Day|                  Day|    1|              81.57|           64.81|                  0.01|                6.66|             81.56|            29.38|               9.08|\n",
      "|    2021-08-27|   AL|    Mobile|           Irvington|              I-10 E|       2|            SW|       Partly Cloudy|  false|false|   false|   false|   false|  false|  false|     false|  false|false|          false|         false|       false|           Day|           Day|              Day|                  Day|    1|              81.57|           64.81|                  0.01|                6.66|             81.56|            29.38|               9.08|\n",
      "|    2021-08-27|   AL| Limestone|             Madison|             AL-20 W|       2|             E|                Fair|  false|false|   false|   false|    true|  false|  false|     false|  false|false|          false|         false|       false|         Night|         Night|            Night|                Night|    2|              81.57|           64.81|                  0.01|                6.66|             81.56|            29.38|               9.08|\n",
      "|    2021-08-27|   AL|Montgomery|           Millbrook|   State Highway 143|       2|           NNW|       Mostly Cloudy|  false|false|   false|   false|   false|  false|  false|     false|  false|false|          false|         false|       false|           Day|           Day|              Day|                  Day|    1|              81.57|           64.81|                  0.01|                6.66|             81.56|            29.38|               9.08|\n",
      "|    2021-08-27|   AL|   Madison|          Huntsville|     N Memorial Pkwy|       2|           SSE|                Fair|  false|false|   false|   false|   false|  false|  false|     false|  false|false|          false|          true|       false|           Day|           Day|              Day|                  Day|    1|              81.57|           64.81|                  0.01|                6.66|             81.56|            29.38|               9.08|\n",
      "|    2021-08-27|   AL|Tuscaloosa|          Tuscaloosa|             15th St|       2|           ENE|                Fair|  false|false|   false|   false|   false|  false|  false|     false|  false|false|          false|          true|       false|           Day|           Day|              Day|                  Day|    1|              81.57|           64.81|                  0.01|                6.66|             81.56|            29.38|               9.08|\n",
      "|    2021-08-27|   AL|Tuscaloosa|          Tuscaloosa|Lurleen B Wallace...|       2|             N|Thunder in the Vi...|  false|false|   false|   false|   false|  false|  false|     false|  false|false|          false|          true|       false|           Day|           Day|              Day|                  Day|    1|              81.57|           64.81|                  0.01|                6.66|             81.56|            29.38|               9.08|\n",
      "|    2021-08-27|   AL|Tuscaloosa|          Tuscaloosa|Lurleen B Wallace...|       2|           ENE|       Mostly Cloudy|  false|false|   false|   false|   false|  false|  false|     false|  false|false|          false|          true|       false|           Day|           Day|              Day|                  Day|    1|              81.57|           64.81|                  0.01|                6.66|             81.56|            29.38|               9.08|\n",
      "|    2021-08-27|   AR|    Miller|           Texarkana|                I-30|       2|             E|                Fair|  false|false|   false|   false|   false|  false|  false|     false|  false|false|          false|         false|       false|           Day|           Day|              Day|                  Day|    2|              81.57|           64.81|                  0.01|                6.66|             81.56|            29.38|               9.08|\n",
      "|    2021-08-27|   AR|    Chicot|        Lake Village|         Highway 257|       4|           VAR|                Fair|  false|false|   false|   false|   false|  false|  false|     false|  false|false|          false|         false|       false|           Day|           Day|              Day|                  Day|    1|              81.57|           64.81|                  0.01|                6.66|             81.56|            29.38|               9.08|\n",
      "|    2021-08-27|   AZ|    Apache|Petrified Forest ...|              I-40 E|       2|          CALM|                Fair|  false|false|   false|   false|   false|  false|  false|     false|  false|false|          false|         false|       false|           Day|           Day|              Day|                  Day|    1|              81.57|           64.81|                  0.01|                6.66|             81.56|            29.38|               9.08|\n",
      "|    2021-08-27|   AZ|  Maricopa|             Phoenix|  W Indian School Rd|       2|           VAR|       Partly Cloudy|  false|false|    true|   false|   false|   true|  false|     false|  false|false|          false|          true|       false|           Day|           Day|              Day|                  Day|    1|              81.57|           64.81|                  0.01|                6.66|             81.56|            29.38|               9.08|\n",
      "|    2021-08-27|   AZ|  Maricopa|             Gilbert|       AZ-202 Loop W|       2|            SE|                Fair|  false|false|   false|   false|   false|  false|  false|     false|  false|false|          false|         false|       false|           Day|           Day|              Day|                  Day|    1|              81.57|           64.81|                  0.01|                6.66|             81.56|            29.38|               9.08|\n",
      "|    2021-08-27|   AZ|    Mohave|       Golden Valley|       US Highway 68|       2|          CALM|                Fair|  false|false|   false|   false|   false|  false|  false|     false|  false|false|          false|         false|       false|           Day|           Day|              Day|                  Day|    1|              81.57|           64.81|                  0.01|                6.66|             81.56|            29.38|               9.08|\n",
      "|    2021-08-27|   AZ|  Maricopa|            Glendale|    W Thunderbird Rd|       2|           NNE|                Fair|   true|false|   false|   false|   false|  false|  false|     false|   true|false|          false|         false|       false|           Day|           Day|              Day|                  Day|    1|              81.57|           64.81|                  0.01|                6.66|             81.56|            29.38|               9.08|\n",
      "|    2021-08-27|   AZ|   Yavapai|             Rimrock|Arizona Veterans ...|       2|          CALM|                Fair|  false|false|   false|   false|   false|  false|  false|     false|  false|false|          false|         false|       false|           Day|           Day|              Day|                  Day|    1|              81.57|           64.81|                  0.01|                6.66|             81.56|            29.38|               9.08|\n",
      "|    2021-08-27|   AZ|  Maricopa|                Mesa|             US-60 E|       2|             E|                Fair|  false|false|   false|   false|   false|  false|  false|     false|  false|false|          false|         false|       false|           Day|           Day|              Day|                  Day|    1|              81.57|           64.81|                  0.01|                6.66|             81.56|            29.38|               9.08|\n",
      "|    2021-08-27|   CA|   Alameda|       Castro Valley|            N 6th St|       2|             W|                Haze|  false|false|    true|   false|   false|  false|  false|     false|  false| true|          false|         false|       false|           Day|           Day|              Day|                  Day|    1|              81.57|           64.81|                  0.01|                6.66|             81.56|            29.38|               9.08|\n",
      "+--------------+-----+----------+--------------------+--------------------+--------+--------------+--------------------+-------+-----+--------+--------+--------+-------+-------+----------+-------+-----+---------------+--------------+------------+--------------+--------------+-----------------+---------------------+-----+-------------------+----------------+----------------------+--------------------+------------------+-----------------+-------------------+\n",
      "only showing top 20 rows\n",
      "\n"
     ]
    }
   ],
   "source": [
    "teste_parquet = spark.read.parquet('Data\\Acidentes.parquet', header = True, inferSchema = True)\n",
    "teste_parquet.show()"
   ]
  }
 ],
 "metadata": {
  "kernelspec": {
   "display_name": "venv",
   "language": "python",
   "name": "python3"
  },
  "language_info": {
   "codemirror_mode": {
    "name": "ipython",
    "version": 3
   },
   "file_extension": ".py",
   "mimetype": "text/x-python",
   "name": "python",
   "nbconvert_exporter": "python",
   "pygments_lexer": "ipython3",
   "version": "3.11.5"
  }
 },
 "nbformat": 4,
 "nbformat_minor": 2
}
