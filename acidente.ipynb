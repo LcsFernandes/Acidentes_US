{
 "cells": [
  {
   "cell_type": "code",
   "execution_count": 1,
   "metadata": {},
   "outputs": [],
   "source": [
    "from pyspark.sql import SparkSession\n",
    "from pyspark.sql import functions as f\n",
    "from pyspark.sql.functions import sum as pyspark_sum"
   ]
  },
  {
   "cell_type": "code",
   "execution_count": 2,
   "metadata": {},
   "outputs": [
    {
     "data": {
      "text/html": [
       "\n",
       "            <div>\n",
       "                <p><b>SparkSession - in-memory</b></p>\n",
       "                \n",
       "        <div>\n",
       "            <p><b>SparkContext</b></p>\n",
       "\n",
       "            <p><a href=\"http://DESKTOP-G483Q4K:4040\">Spark UI</a></p>\n",
       "\n",
       "            <dl>\n",
       "              <dt>Version</dt>\n",
       "                <dd><code>v3.5.1</code></dd>\n",
       "              <dt>Master</dt>\n",
       "                <dd><code>local[*]</code></dd>\n",
       "              <dt>AppName</dt>\n",
       "                <dd><code>mySpark</code></dd>\n",
       "            </dl>\n",
       "        </div>\n",
       "        \n",
       "            </div>\n",
       "        "
      ],
      "text/plain": [
       "<pyspark.sql.session.SparkSession at 0x132289c3090>"
      ]
     },
     "execution_count": 2,
     "metadata": {},
     "output_type": "execute_result"
    }
   ],
   "source": [
    "spark = SparkSession.builder.appName('mySpark').master('local[*]').getOrCreate()\n",
    "spark"
   ]
  },
  {
   "cell_type": "code",
   "execution_count": 3,
   "metadata": {},
   "outputs": [
    {
     "name": "stdout",
     "output_type": "stream",
     "text": [
      "+----+-------+--------+-------------------+-------------------+------------------+------------------+-------+-------+------------+--------------------+--------------------+------------+----------+-----+----------+-------+----------+------------+-------------------+--------------+-------------+-----------+------------+--------------+--------------+---------------+-----------------+-----------------+-------+-----+--------+--------+--------+-------+-------+----------+-------+-----+---------------+--------------+------------+--------------+--------------+-----------------+---------------------+\n",
      "|  ID| Source|Severity|         Start_Time|           End_Time|         Start_Lat|         Start_Lng|End_Lat|End_Lng|Distance(mi)|         Description|              Street|        City|    County|State|   Zipcode|Country|  Timezone|Airport_Code|  Weather_Timestamp|Temperature(F)|Wind_Chill(F)|Humidity(%)|Pressure(in)|Visibility(mi)|Wind_Direction|Wind_Speed(mph)|Precipitation(in)|Weather_Condition|Amenity| Bump|Crossing|Give_Way|Junction|No_Exit|Railway|Roundabout|Station| Stop|Traffic_Calming|Traffic_Signal|Turning_Loop|Sunrise_Sunset|Civil_Twilight|Nautical_Twilight|Astronomical_Twilight|\n",
      "+----+-------+--------+-------------------+-------------------+------------------+------------------+-------+-------+------------+--------------------+--------------------+------------+----------+-----+----------+-------+----------+------------+-------------------+--------------+-------------+-----------+------------+--------------+--------------+---------------+-----------------+-----------------+-------+-----+--------+--------+--------+-------+-------+----------+-------+-----+---------------+--------------+------------+--------------+--------------+-----------------+---------------------+\n",
      "| A-1|Source2|       3|2016-02-08 05:46:00|2016-02-08 11:00:00|         39.865147|        -84.058723|   NULL|   NULL|        0.01|Right lane blocke...|              I-70 E|      Dayton|Montgomery|   OH|     45424|     US|US/Eastern|        KFFO|2016-02-08 05:58:00|          36.9|         NULL|       91.0|       29.68|          10.0|          Calm|           NULL|             0.02|       Light Rain|  false|false|   false|   false|   false|  false|  false|     false|  false|false|          false|         false|       false|         Night|         Night|            Night|                Night|\n",
      "| A-2|Source2|       2|2016-02-08 06:07:59|2016-02-08 06:37:59| 39.92805900000001|        -82.831184|   NULL|   NULL|        0.01|Accident on Brice...|            Brice Rd|Reynoldsburg|  Franklin|   OH|43068-3402|     US|US/Eastern|        KCMH|2016-02-08 05:51:00|          37.9|         NULL|      100.0|       29.65|          10.0|          Calm|           NULL|              0.0|       Light Rain|  false|false|   false|   false|   false|  false|  false|     false|  false|false|          false|         false|       false|         Night|         Night|            Night|                  Day|\n",
      "| A-3|Source2|       2|2016-02-08 06:49:27|2016-02-08 07:19:27|         39.063148|        -84.032608|   NULL|   NULL|        0.01|Accident on OH-32...|      State Route 32|Williamsburg|  Clermont|   OH|     45176|     US|US/Eastern|        KI69|2016-02-08 06:56:00|          36.0|         33.3|      100.0|       29.67|          10.0|            SW|            3.5|             NULL|         Overcast|  false|false|   false|   false|   false|  false|  false|     false|  false|false|          false|          true|       false|         Night|         Night|              Day|                  Day|\n",
      "| A-4|Source2|       3|2016-02-08 07:23:34|2016-02-08 07:53:34|         39.747753|-84.20558199999998|   NULL|   NULL|        0.01|Accident on I-75 ...|              I-75 S|      Dayton|Montgomery|   OH|     45417|     US|US/Eastern|        KDAY|2016-02-08 07:38:00|          35.1|         31.0|       96.0|       29.64|           9.0|            SW|            4.6|             NULL|    Mostly Cloudy|  false|false|   false|   false|   false|  false|  false|     false|  false|false|          false|         false|       false|         Night|           Day|              Day|                  Day|\n",
      "| A-5|Source2|       2|2016-02-08 07:39:07|2016-02-08 08:09:07|         39.627781|        -84.188354|   NULL|   NULL|        0.01|Accident on McEwe...|Miamisburg Center...|      Dayton|Montgomery|   OH|     45459|     US|US/Eastern|        KMGY|2016-02-08 07:53:00|          36.0|         33.3|       89.0|       29.65|           6.0|            SW|            3.5|             NULL|    Mostly Cloudy|  false|false|   false|   false|   false|  false|  false|     false|  false|false|          false|          true|       false|           Day|           Day|              Day|                  Day|\n",
      "| A-6|Source2|       3|2016-02-08 07:44:26|2016-02-08 08:14:26|40.100590000000004|-82.92519399999998|   NULL|   NULL|        0.01|Accident on I-270...|      Westerville Rd| Westerville|  Franklin|   OH|     43081|     US|US/Eastern|        KCMH|2016-02-08 07:51:00|          37.9|         35.5|       97.0|       29.63|           7.0|           SSW|            3.5|             0.03|       Light Rain|  false|false|   false|   false|   false|  false|  false|     false|  false|false|          false|         false|       false|           Day|           Day|              Day|                  Day|\n",
      "| A-7|Source2|       2|2016-02-08 07:59:35|2016-02-08 08:29:35|         39.758274|-84.23050699999997|   NULL|   NULL|         0.0|Accident on Oakri...|      N Woodward Ave|      Dayton|Montgomery|   OH|45417-2476|     US|US/Eastern|        KDAY|2016-02-08 07:56:00|          34.0|         31.0|      100.0|       29.66|           7.0|           WSW|            3.5|             NULL|         Overcast|  false|false|   false|   false|   false|  false|  false|     false|  false|false|          false|         false|       false|           Day|           Day|              Day|                  Day|\n",
      "| A-8|Source2|       3|2016-02-08 07:59:58|2016-02-08 08:29:58|         39.770382|        -84.194901|   NULL|   NULL|        0.01|Accident on I-75 ...|           N Main St|      Dayton|Montgomery|   OH|     45405|     US|US/Eastern|        KDAY|2016-02-08 07:56:00|          34.0|         31.0|      100.0|       29.66|           7.0|           WSW|            3.5|             NULL|         Overcast|  false|false|   false|   false|   false|  false|  false|     false|  false|false|          false|         false|       false|           Day|           Day|              Day|                  Day|\n",
      "| A-9|Source2|       2|2016-02-08 08:00:40|2016-02-08 08:30:40|         39.778061|        -84.172005|   NULL|   NULL|         0.0|Accident on Notre...|      Notre Dame Ave|      Dayton|Montgomery|   OH|45404-1923|     US|US/Eastern|        KFFO|2016-02-08 07:58:00|          33.3|         NULL|       99.0|       29.67|           5.0|            SW|            1.2|             NULL|    Mostly Cloudy|  false|false|   false|   false|   false|  false|  false|     false|  false|false|          false|         false|       false|           Day|           Day|              Day|                  Day|\n",
      "|A-10|Source2|       3|2016-02-08 08:10:04|2016-02-08 08:40:04|40.100590000000004|-82.92519399999998|   NULL|   NULL|        0.01|Right hand should...|      Westerville Rd| Westerville|  Franklin|   OH|     43081|     US|US/Eastern|        KCMH|2016-02-08 08:28:00|          37.4|         33.8|      100.0|       29.62|           3.0|           SSW|            4.6|             0.02|       Light Rain|  false|false|   false|   false|   false|  false|  false|     false|  false|false|          false|         false|       false|           Day|           Day|              Day|                  Day|\n",
      "+----+-------+--------+-------------------+-------------------+------------------+------------------+-------+-------+------------+--------------------+--------------------+------------+----------+-----+----------+-------+----------+------------+-------------------+--------------+-------------+-----------+------------+--------------+--------------+---------------+-----------------+-----------------+-------+-----+--------+--------+--------+-------+-------+----------+-------+-----+---------------+--------------+------------+--------------+--------------+-----------------+---------------------+\n",
      "only showing top 10 rows\n",
      "\n"
     ]
    }
   ],
   "source": [
    "df = spark.read.csv('US_Accidents_March23.csv', header = True, inferSchema = True)\n",
    "df.show(10)"
   ]
  },
  {
   "cell_type": "code",
   "execution_count": 4,
   "metadata": {},
   "outputs": [
    {
     "name": "stdout",
     "output_type": "stream",
     "text": [
      "root\n",
      " |-- ID: string (nullable = true)\n",
      " |-- Source: string (nullable = true)\n",
      " |-- Severity: integer (nullable = true)\n",
      " |-- Start_Time: timestamp (nullable = true)\n",
      " |-- End_Time: timestamp (nullable = true)\n",
      " |-- Start_Lat: double (nullable = true)\n",
      " |-- Start_Lng: double (nullable = true)\n",
      " |-- End_Lat: double (nullable = true)\n",
      " |-- End_Lng: double (nullable = true)\n",
      " |-- Distance(mi): double (nullable = true)\n",
      " |-- Description: string (nullable = true)\n",
      " |-- Street: string (nullable = true)\n",
      " |-- City: string (nullable = true)\n",
      " |-- County: string (nullable = true)\n",
      " |-- State: string (nullable = true)\n",
      " |-- Zipcode: string (nullable = true)\n",
      " |-- Country: string (nullable = true)\n",
      " |-- Timezone: string (nullable = true)\n",
      " |-- Airport_Code: string (nullable = true)\n",
      " |-- Weather_Timestamp: timestamp (nullable = true)\n",
      " |-- Temperature(F): double (nullable = true)\n",
      " |-- Wind_Chill(F): double (nullable = true)\n",
      " |-- Humidity(%): double (nullable = true)\n",
      " |-- Pressure(in): double (nullable = true)\n",
      " |-- Visibility(mi): double (nullable = true)\n",
      " |-- Wind_Direction: string (nullable = true)\n",
      " |-- Wind_Speed(mph): double (nullable = true)\n",
      " |-- Precipitation(in): double (nullable = true)\n",
      " |-- Weather_Condition: string (nullable = true)\n",
      " |-- Amenity: boolean (nullable = true)\n",
      " |-- Bump: boolean (nullable = true)\n",
      " |-- Crossing: boolean (nullable = true)\n",
      " |-- Give_Way: boolean (nullable = true)\n",
      " |-- Junction: boolean (nullable = true)\n",
      " |-- No_Exit: boolean (nullable = true)\n",
      " |-- Railway: boolean (nullable = true)\n",
      " |-- Roundabout: boolean (nullable = true)\n",
      " |-- Station: boolean (nullable = true)\n",
      " |-- Stop: boolean (nullable = true)\n",
      " |-- Traffic_Calming: boolean (nullable = true)\n",
      " |-- Traffic_Signal: boolean (nullable = true)\n",
      " |-- Turning_Loop: boolean (nullable = true)\n",
      " |-- Sunrise_Sunset: string (nullable = true)\n",
      " |-- Civil_Twilight: string (nullable = true)\n",
      " |-- Nautical_Twilight: string (nullable = true)\n",
      " |-- Astronomical_Twilight: string (nullable = true)\n",
      "\n"
     ]
    }
   ],
   "source": [
    "df.printSchema()"
   ]
  },
  {
   "cell_type": "code",
   "execution_count": 5,
   "metadata": {},
   "outputs": [
    {
     "name": "stdout",
     "output_type": "stream",
     "text": [
      "+---+------+--------+----------+--------+---------+---------+-------+-------+------------+-----------+------+----+------+-----+-------+-------+--------+------------+-----------------+--------------+-------------+-----------+------------+--------------+--------------+---------------+-----------------+-----------------+-------+----+--------+--------+--------+-------+-------+----------+-------+----+---------------+--------------+------------+--------------+--------------+-----------------+---------------------+\n",
      "| ID|Source|Severity|Start_Time|End_Time|Start_Lat|Start_Lng|End_Lat|End_Lng|Distance(mi)|Description|Street|City|County|State|Zipcode|Country|Timezone|Airport_Code|Weather_Timestamp|Temperature(F)|Wind_Chill(F)|Humidity(%)|Pressure(in)|Visibility(mi)|Wind_Direction|Wind_Speed(mph)|Precipitation(in)|Weather_Condition|Amenity|Bump|Crossing|Give_Way|Junction|No_Exit|Railway|Roundabout|Station|Stop|Traffic_Calming|Traffic_Signal|Turning_Loop|Sunrise_Sunset|Civil_Twilight|Nautical_Twilight|Astronomical_Twilight|\n",
      "+---+------+--------+----------+--------+---------+---------+-------+-------+------------+-----------+------+----+------+-----+-------+-------+--------+------------+-----------------+--------------+-------------+-----------+------------+--------------+--------------+---------------+-----------------+-----------------+-------+----+--------+--------+--------+-------+-------+----------+-------+----+---------------+--------------+------------+--------------+--------------+-----------------+---------------------+\n",
      "|  0|     0|       0|         0|       0|        0|        0|3402762|3402762|           0|          5| 10869| 253|     0|    0|   1915|      0|    7808|       22635|           120228|        163853|      1999019|     174144|      140679|        177098|        175206|         571233|          2203586|           173459|      0|   0|       0|       0|       0|      0|      0|         0|      0|   0|              0|             0|           0|         23246|         23246|            23246|                23246|\n",
      "+---+------+--------+----------+--------+---------+---------+-------+-------+------------+-----------+------+----+------+-----+-------+-------+--------+------------+-----------------+--------------+-------------+-----------+------------+--------------+--------------+---------------+-----------------+-----------------+-------+----+--------+--------+--------+-------+-------+----------+-------+----+---------------+--------------+------------+--------------+--------------+-----------------+---------------------+\n",
      "\n"
     ]
    }
   ],
   "source": [
    "null = [pyspark_sum(f.when(f.col(c).isNull(), 1).otherwise(0)).alias(c) for c in df.columns]\n",
    "df_null = df.agg(*null)\n",
    "df_null.show()"
   ]
  },
  {
   "cell_type": "code",
   "execution_count": 6,
   "metadata": {},
   "outputs": [
    {
     "name": "stdout",
     "output_type": "stream",
     "text": [
      "+----+--------+-------------------+-------------------+--------------------+--------------------+------------+----------+-----+----------+-------------------+--------------+-----------+--------------+-----------------+\n",
      "|  ID|Severity|         Start_Time|           End_Time|         Description|              Street|        City|    County|State|  Timezone|  Weather_Timestamp|Temperature(F)|Humidity(%)|Visibility(mi)|Weather_Condition|\n",
      "+----+--------+-------------------+-------------------+--------------------+--------------------+------------+----------+-----+----------+-------------------+--------------+-----------+--------------+-----------------+\n",
      "| A-1|       3|2016-02-08 05:46:00|2016-02-08 11:00:00|Right lane blocke...|              I-70 E|      Dayton|Montgomery|   OH|US/Eastern|2016-02-08 05:58:00|          36.9|       91.0|          10.0|       Light Rain|\n",
      "| A-2|       2|2016-02-08 06:07:59|2016-02-08 06:37:59|Accident on Brice...|            Brice Rd|Reynoldsburg|  Franklin|   OH|US/Eastern|2016-02-08 05:51:00|          37.9|      100.0|          10.0|       Light Rain|\n",
      "| A-3|       2|2016-02-08 06:49:27|2016-02-08 07:19:27|Accident on OH-32...|      State Route 32|Williamsburg|  Clermont|   OH|US/Eastern|2016-02-08 06:56:00|          36.0|      100.0|          10.0|         Overcast|\n",
      "| A-4|       3|2016-02-08 07:23:34|2016-02-08 07:53:34|Accident on I-75 ...|              I-75 S|      Dayton|Montgomery|   OH|US/Eastern|2016-02-08 07:38:00|          35.1|       96.0|           9.0|    Mostly Cloudy|\n",
      "| A-5|       2|2016-02-08 07:39:07|2016-02-08 08:09:07|Accident on McEwe...|Miamisburg Center...|      Dayton|Montgomery|   OH|US/Eastern|2016-02-08 07:53:00|          36.0|       89.0|           6.0|    Mostly Cloudy|\n",
      "| A-6|       3|2016-02-08 07:44:26|2016-02-08 08:14:26|Accident on I-270...|      Westerville Rd| Westerville|  Franklin|   OH|US/Eastern|2016-02-08 07:51:00|          37.9|       97.0|           7.0|       Light Rain|\n",
      "| A-7|       2|2016-02-08 07:59:35|2016-02-08 08:29:35|Accident on Oakri...|      N Woodward Ave|      Dayton|Montgomery|   OH|US/Eastern|2016-02-08 07:56:00|          34.0|      100.0|           7.0|         Overcast|\n",
      "| A-8|       3|2016-02-08 07:59:58|2016-02-08 08:29:58|Accident on I-75 ...|           N Main St|      Dayton|Montgomery|   OH|US/Eastern|2016-02-08 07:56:00|          34.0|      100.0|           7.0|         Overcast|\n",
      "| A-9|       2|2016-02-08 08:00:40|2016-02-08 08:30:40|Accident on Notre...|      Notre Dame Ave|      Dayton|Montgomery|   OH|US/Eastern|2016-02-08 07:58:00|          33.3|       99.0|           5.0|    Mostly Cloudy|\n",
      "|A-10|       3|2016-02-08 08:10:04|2016-02-08 08:40:04|Right hand should...|      Westerville Rd| Westerville|  Franklin|   OH|US/Eastern|2016-02-08 08:28:00|          37.4|      100.0|           3.0|       Light Rain|\n",
      "+----+--------+-------------------+-------------------+--------------------+--------------------+------------+----------+-----+----------+-------------------+--------------+-----------+--------------+-----------------+\n",
      "only showing top 10 rows\n",
      "\n"
     ]
    }
   ],
   "source": [
    "df = df.select('ID', 'Severity', 'Start_Time', 'End_Time', 'Description', 'Street', 'City', 'County', 'State', 'Timezone',\\\n",
    "            'Weather_Timestamp', 'Temperature(F)', 'Humidity(%)', 'Visibility(mi)', 'Weather_Condition')\n",
    "df.show(10)"
   ]
  },
  {
   "cell_type": "code",
   "execution_count": 7,
   "metadata": {},
   "outputs": [
    {
     "name": "stdout",
     "output_type": "stream",
     "text": [
      "+----+--------+-------------------+-------------------+--------------------+--------------------+------------+----------+-----+----------+-------------------+--------------+-----------+--------------+-----------------+-----------------+\n",
      "|  ID|Severity|         Start_Time|           End_Time|         Description|              Street|        City|    County|State|  Timezone|  Weather_Timestamp|Temperature(F)|Humidity(%)|Visibility(mi)|Weather_Condition|      Duration_Hr|\n",
      "+----+--------+-------------------+-------------------+--------------------+--------------------+------------+----------+-----+----------+-------------------+--------------+-----------+--------------+-----------------+-----------------+\n",
      "| A-1|       3|2016-02-08 05:46:00|2016-02-08 11:00:00|Right lane blocke...|              I-70 E|      Dayton|Montgomery|   OH|US/Eastern|2016-02-08 05:58:00|          36.9|       91.0|          10.0|       Light Rain|5.233333333333333|\n",
      "| A-2|       2|2016-02-08 06:07:59|2016-02-08 06:37:59|Accident on Brice...|            Brice Rd|Reynoldsburg|  Franklin|   OH|US/Eastern|2016-02-08 05:51:00|          37.9|      100.0|          10.0|       Light Rain|              0.5|\n",
      "| A-3|       2|2016-02-08 06:49:27|2016-02-08 07:19:27|Accident on OH-32...|      State Route 32|Williamsburg|  Clermont|   OH|US/Eastern|2016-02-08 06:56:00|          36.0|      100.0|          10.0|         Overcast|              0.5|\n",
      "| A-4|       3|2016-02-08 07:23:34|2016-02-08 07:53:34|Accident on I-75 ...|              I-75 S|      Dayton|Montgomery|   OH|US/Eastern|2016-02-08 07:38:00|          35.1|       96.0|           9.0|    Mostly Cloudy|              0.5|\n",
      "| A-5|       2|2016-02-08 07:39:07|2016-02-08 08:09:07|Accident on McEwe...|Miamisburg Center...|      Dayton|Montgomery|   OH|US/Eastern|2016-02-08 07:53:00|          36.0|       89.0|           6.0|    Mostly Cloudy|              0.5|\n",
      "| A-6|       3|2016-02-08 07:44:26|2016-02-08 08:14:26|Accident on I-270...|      Westerville Rd| Westerville|  Franklin|   OH|US/Eastern|2016-02-08 07:51:00|          37.9|       97.0|           7.0|       Light Rain|              0.5|\n",
      "| A-7|       2|2016-02-08 07:59:35|2016-02-08 08:29:35|Accident on Oakri...|      N Woodward Ave|      Dayton|Montgomery|   OH|US/Eastern|2016-02-08 07:56:00|          34.0|      100.0|           7.0|         Overcast|              0.5|\n",
      "| A-8|       3|2016-02-08 07:59:58|2016-02-08 08:29:58|Accident on I-75 ...|           N Main St|      Dayton|Montgomery|   OH|US/Eastern|2016-02-08 07:56:00|          34.0|      100.0|           7.0|         Overcast|              0.5|\n",
      "| A-9|       2|2016-02-08 08:00:40|2016-02-08 08:30:40|Accident on Notre...|      Notre Dame Ave|      Dayton|Montgomery|   OH|US/Eastern|2016-02-08 07:58:00|          33.3|       99.0|           5.0|    Mostly Cloudy|              0.5|\n",
      "|A-10|       3|2016-02-08 08:10:04|2016-02-08 08:40:04|Right hand should...|      Westerville Rd| Westerville|  Franklin|   OH|US/Eastern|2016-02-08 08:28:00|          37.4|      100.0|           3.0|       Light Rain|              0.5|\n",
      "+----+--------+-------------------+-------------------+--------------------+--------------------+------------+----------+-----+----------+-------------------+--------------+-----------+--------------+-----------------+-----------------+\n",
      "only showing top 10 rows\n",
      "\n"
     ]
    }
   ],
   "source": [
    "df= df.withColumn('Duration_Hr', (f.col('End_Time').cast('long') - f.col('Start_Time').cast('long')) / 3600)\n",
    "df.show(10)    "
   ]
  },
  {
   "cell_type": "code",
   "execution_count": 8,
   "metadata": {},
   "outputs": [
    {
     "name": "stdout",
     "output_type": "stream",
     "text": [
      "+---+--------+-------------------+-------------------+--------------------+--------------------+------------+----------+-----+----------+-------------------+--------------+-----------+--------------+-----------------+-----------------+--------------+\n",
      "| ID|Severity|         Start_Time|           End_Time|         Description|              Street|        City|    County|State|  Timezone|  Weather_Timestamp|Temperature(F)|Humidity(%)|Visibility(mi)|Weather_Condition|      Duration_Hr|Occurrence_day|\n",
      "+---+--------+-------------------+-------------------+--------------------+--------------------+------------+----------+-----+----------+-------------------+--------------+-----------+--------------+-----------------+-----------------+--------------+\n",
      "|A-1|       3|2016-02-08 05:46:00|2016-02-08 11:00:00|Right lane blocke...|              I-70 E|      Dayton|Montgomery|   OH|US/Eastern|2016-02-08 05:58:00|          36.9|       91.0|          10.0|       Light Rain|5.233333333333333|    2016-02-08|\n",
      "|A-2|       2|2016-02-08 06:07:59|2016-02-08 06:37:59|Accident on Brice...|            Brice Rd|Reynoldsburg|  Franklin|   OH|US/Eastern|2016-02-08 05:51:00|          37.9|      100.0|          10.0|       Light Rain|              0.5|    2016-02-08|\n",
      "|A-3|       2|2016-02-08 06:49:27|2016-02-08 07:19:27|Accident on OH-32...|      State Route 32|Williamsburg|  Clermont|   OH|US/Eastern|2016-02-08 06:56:00|          36.0|      100.0|          10.0|         Overcast|              0.5|    2016-02-08|\n",
      "|A-4|       3|2016-02-08 07:23:34|2016-02-08 07:53:34|Accident on I-75 ...|              I-75 S|      Dayton|Montgomery|   OH|US/Eastern|2016-02-08 07:38:00|          35.1|       96.0|           9.0|    Mostly Cloudy|              0.5|    2016-02-08|\n",
      "|A-5|       2|2016-02-08 07:39:07|2016-02-08 08:09:07|Accident on McEwe...|Miamisburg Center...|      Dayton|Montgomery|   OH|US/Eastern|2016-02-08 07:53:00|          36.0|       89.0|           6.0|    Mostly Cloudy|              0.5|    2016-02-08|\n",
      "+---+--------+-------------------+-------------------+--------------------+--------------------+------------+----------+-----+----------+-------------------+--------------+-----------+--------------+-----------------+-----------------+--------------+\n",
      "only showing top 5 rows\n",
      "\n"
     ]
    }
   ],
   "source": [
    "df = df.withColumn('Occurrence_day', f.to_date(f.col('Start_Time')))\n",
    "df.show(5)\n"
   ]
  },
  {
   "cell_type": "code",
   "execution_count": 9,
   "metadata": {},
   "outputs": [
    {
     "name": "stdout",
     "output_type": "stream",
     "text": [
      "+-----------------+-------------------+-------------------+------------------+\n",
      "|Weather_Timestamp|avg(Visibility(mi))|avg(Temperature(F))|  avg(Humidity(%))|\n",
      "+-----------------+-------------------+-------------------+------------------+\n",
      "|             NULL|               NULL|               NULL|              NULL|\n",
      "|       2016-01-14|               10.0|               31.0|              69.0|\n",
      "|       2016-02-08|               7.13| 35.388333333333335| 91.81666666666666|\n",
      "|       2016-02-09|  2.410169491525424|  23.53220338983051| 87.11864406779661|\n",
      "|       2016-02-10|  3.875510204081633|  17.76530612244898| 77.57142857142857|\n",
      "|       2016-02-11|  9.263440860215054| 15.888172043010755| 65.31182795698925|\n",
      "|       2016-02-12|  8.416666666666666|  19.20555555555556| 66.33333333333333|\n",
      "|       2016-02-13|               10.0| 10.142857142857142|58.357142857142854|\n",
      "|       2016-02-14|  5.827272727272727|  13.19090909090909| 80.18181818181819|\n",
      "|       2016-02-15| 3.8548387096774195| 26.927419354838708| 90.85483870967742|\n",
      "|       2016-02-16|  4.217469879518072| 32.031325301204824| 90.80722891566265|\n",
      "|       2016-02-17|  6.029411764705882| 30.837254901960787| 81.31372549019608|\n",
      "|       2016-02-18|  8.483561643835616|  26.56849315068493| 73.68493150684931|\n",
      "|       2016-02-19|               10.0|  51.16805555555556| 48.69444444444444|\n",
      "|       2016-02-20|               10.0|             61.275|              47.0|\n",
      "|       2016-02-21|  6.857142857142857|               49.0| 83.85714285714286|\n",
      "|       2016-02-22|   9.89090909090909| 36.238181818181815| 74.85454545454546|\n",
      "|       2016-02-23| 10.175438596491228|  42.40526315789474|62.666666666666664|\n",
      "|       2016-02-24|  5.464705882352941| 42.652325581395345| 91.87058823529412|\n",
      "|       2016-02-25|  5.500980392156862|   32.3686274509804|              83.5|\n",
      "+-----------------+-------------------+-------------------+------------------+\n",
      "only showing top 20 rows\n",
      "\n"
     ]
    }
   ],
   "source": [
    "df = df.withColumn('Weather_Timestamp', f.to_date(f.col('Weather_Timestamp')))\n",
    "media_clima = df.groupBy('Weather_Timestamp').agg(\n",
    "    {   \n",
    "     'Temperature(F)': 'avg',\n",
    "     'Humidity(%)': 'avg',\n",
    "     'Visibility(mi)': 'avg'\n",
    "    }\n",
    "    ).orderBy('Weather_Timestamp')\n",
    "media_clima.show()"
   ]
  },
  {
   "cell_type": "code",
   "execution_count": 12,
   "metadata": {},
   "outputs": [
    {
     "name": "stdout",
     "output_type": "stream",
     "text": [
      "+--------------+-----+----------+------------+---------------+--------+------------------+-----+\n",
      "|Occurrence_day|State|    County|        City|         Street|Severity|       Duration_Hr|count|\n",
      "+--------------+-----+----------+------------+---------------+--------+------------------+-----+\n",
      "|    2016-01-14|   PA|    Lehigh|   Whitehall|        US-22 E|       4| 9161.112777777778|    1|\n",
      "|    2016-01-14|   PA|    Lehigh|   Whitehall|        US-22 E|       4|         9603.0575|    1|\n",
      "|    2016-01-14|   PA|    Lehigh|   Whitehall|        US-22 E|       4| 9161.619722222222|    1|\n",
      "|    2016-01-14|   PA|    Lehigh|   Whitehall|        US-22 E|       4| 9629.324166666667|    1|\n",
      "|    2016-01-14|   PA|    Lehigh|   Whitehall|        US-22 E|       4| 9161.258055555556|    1|\n",
      "|    2016-01-14|   PA|    Lehigh|   Whitehall|        US-22 E|       4|10275.508333333333|    1|\n",
      "|    2016-01-14|   PA|    Lehigh|   Whitehall|        US-22 E|       4|10553.135277777777|    1|\n",
      "|    2016-02-08|   OH|  Clermont|Williamsburg| State Route 32|       2|               0.5|    1|\n",
      "|    2016-02-08|   KY|    Kenton| Ft Mitchell|         I-75 S|       3|               6.0|    1|\n",
      "|    2016-02-08|   OH|Montgomery|      Dayton|      Salem Ave|       2|               0.5|    1|\n",
      "|    2016-02-08|   OH|  Clermont|     Batavia| State Route 32|       2|               6.0|    1|\n",
      "|    2016-02-08|   OH|  Cuyahoga|   Cleveland|         I-71 S|       2|               6.0|    1|\n",
      "|    2016-02-08|   OH|     Allen|        Lima|  E Hanthorn Rd|       2|               6.0|    1|\n",
      "|    2016-02-08|   OH|  Franklin|    Columbus|    Outerbelt S|       3|               0.5|    1|\n",
      "|    2016-02-08|   OH|  Franklin|    Columbus|     E Broad St|       2|               0.5|    1|\n",
      "|    2016-02-08|   OH|  Franklin|Reynoldsburg|       Brice Rd|       2|               0.5|    1|\n",
      "|    2016-02-08|   OH|  Franklin|    Columbus|Olentangy Fwy N|       2|              0.75|    1|\n",
      "|    2016-02-08|   OH|  Franklin| Westerville|    Outerbelt W|       2|               6.0|    1|\n",
      "|    2016-02-08|   OH|  Franklin|    Columbus|    North Fwy S|       3|               2.6|    1|\n",
      "|    2016-02-08|   OH|  Hamilton|  Cincinnati|      Hopple St|       2|               6.0|    1|\n",
      "+--------------+-----+----------+------------+---------------+--------+------------------+-----+\n",
      "only showing top 20 rows\n",
      "\n"
     ]
    }
   ],
   "source": [
    "acidentes = df.groupBy('Occurrence_day', 'State', 'County', 'City', 'Street', 'Severity').count().orderBy('Occurrence_day')\n",
    "acidentes.show()"
   ]
  },
  {
   "cell_type": "code",
   "execution_count": 11,
   "metadata": {},
   "outputs": [
    {
     "name": "stdout",
     "output_type": "stream",
     "text": [
      "+--------------+-----+----------+------------+----------------+--------+-----+-----------------+-------------------+-------------------+-----------------+\n",
      "|Occurrence_day|State|    County|        City|          Street|Severity|count|Weather_Timestamp|avg(Visibility(mi))|avg(Temperature(F))| avg(Humidity(%))|\n",
      "+--------------+-----+----------+------------+----------------+--------+-----+-----------------+-------------------+-------------------+-----------------+\n",
      "|          NULL| NULL|      NULL|        NULL|            NULL|    NULL| NULL|             NULL|               NULL|               NULL|             NULL|\n",
      "|    2016-01-14|   PA|    Lehigh|   Whitehall|         US-22 E|       4|    7|       2016-01-14|               10.0|               31.0|             69.0|\n",
      "|    2016-02-08|   OH|  Clermont|     Batavia|  State Route 32|       2|    1|       2016-02-08|               7.13| 35.388333333333335|91.81666666666666|\n",
      "|    2016-02-08|   OH|  Franklin|    Columbus|    Brookhill Dr|       2|    1|       2016-02-08|               7.13| 35.388333333333335|91.81666666666666|\n",
      "|    2016-02-08|   OH|  Franklin|    Columbus| Olentangy Fwy S|       2|    1|       2016-02-08|               7.13| 35.388333333333335|91.81666666666666|\n",
      "|    2016-02-08|   OH|  Hamilton|  Cincinnati|       Hopple St|       2|    1|       2016-02-08|               7.13| 35.388333333333335|91.81666666666666|\n",
      "|    2016-02-08|   OH|  Franklin|      Dublin|       Frantz Rd|       2|    1|       2016-02-08|               7.13| 35.388333333333335|91.81666666666666|\n",
      "|    2016-02-08|   OH|  Hamilton|  Cincinnati|          I-75 S|       2|    1|       2016-02-08|               7.13| 35.388333333333335|91.81666666666666|\n",
      "|    2016-02-08|   OH|  Franklin|Reynoldsburg|          I-70 E|       3|    1|       2016-02-08|               7.13| 35.388333333333335|91.81666666666666|\n",
      "|    2016-02-08|   OH|     Lucas|      Toledo|          I-75 S|       4|    1|       2016-02-08|               7.13| 35.388333333333335|91.81666666666666|\n",
      "|    2016-02-08|   OH|  Hamilton|  Cincinnati|          I-75 N|       2|    1|       2016-02-08|               7.13| 35.388333333333335|91.81666666666666|\n",
      "|    2016-02-08|   OH|Montgomery|      Dayton|     Glencoe Ave|       2|    1|       2016-02-08|               7.13| 35.388333333333335|91.81666666666666|\n",
      "|    2016-02-08|   OH|  Hamilton|  Cincinnati|         US-50 E|       2|    1|       2016-02-08|               7.13| 35.388333333333335|91.81666666666666|\n",
      "|    2016-02-08|   OH|  Cuyahoga|   Cleveland|          I-90 E|       2|    1|       2016-02-08|               7.13| 35.388333333333335|91.81666666666666|\n",
      "|    2016-02-08|   OH|Montgomery|      Dayton|Bellefontaine Rd|       2|    1|       2016-02-08|               7.13| 35.388333333333335|91.81666666666666|\n",
      "|    2016-02-08|   OH|Montgomery|      Dayton|  Litchfield Ave|       2|    1|       2016-02-08|               7.13| 35.388333333333335|91.81666666666666|\n",
      "|    2016-02-08|   OH|Montgomery|      Dayton|          I-70 E|       3|    1|       2016-02-08|               7.13| 35.388333333333335|91.81666666666666|\n",
      "|    2016-02-08|   OH|Montgomery|      Dayton|  N Woodward Ave|       2|    1|       2016-02-08|               7.13| 35.388333333333335|91.81666666666666|\n",
      "|    2016-02-08|   OH|Montgomery|      Dayton|          I-75 S|       2|    1|       2016-02-08|               7.13| 35.388333333333335|91.81666666666666|\n",
      "|    2016-02-08|   OH|Montgomery|      Dayton|  Notre Dame Ave|       2|    1|       2016-02-08|               7.13| 35.388333333333335|91.81666666666666|\n",
      "+--------------+-----+----------+------------+----------------+--------+-----+-----------------+-------------------+-------------------+-----------------+\n",
      "only showing top 20 rows\n",
      "\n"
     ]
    }
   ],
   "source": [
    "acidentes = acidentes.join(media_clima, on = media_clima['Weather_Timestamp'] == acidentes['Occurrence_day'], how = 'outer').orderBy('Occurrence_day')\n",
    "acidentes.show()"
   ]
  },
  {
   "cell_type": "code",
   "execution_count": null,
   "metadata": {},
   "outputs": [],
   "source": [
    "\n"
   ]
  },
  {
   "cell_type": "code",
   "execution_count": null,
   "metadata": {},
   "outputs": [],
   "source": []
  }
 ],
 "metadata": {
  "kernelspec": {
   "display_name": "venv",
   "language": "python",
   "name": "python3"
  },
  "language_info": {
   "codemirror_mode": {
    "name": "ipython",
    "version": 3
   },
   "file_extension": ".py",
   "mimetype": "text/x-python",
   "name": "python",
   "nbconvert_exporter": "python",
   "pygments_lexer": "ipython3",
   "version": "3.11.5"
  }
 },
 "nbformat": 4,
 "nbformat_minor": 2
}
